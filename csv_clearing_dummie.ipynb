{
 "cells": [
  {
   "cell_type": "markdown",
   "metadata": {},
   "source": [
    "メモ\n",
    "I91,95,84あたりは多い"
   ]
  },
  {
   "cell_type": "markdown",
   "metadata": {},
   "source": [
    "<table>\n",
    "  <thead>\n",
    "  <tr>\n",
    "    <td>更新日時</td>\n",
    "    <td>変更内容</td>    \n",
    "  </tr>\n",
    "  </thead>\n",
    "  <tr>\n",
    "    <td>0611 1230</td>\n",
    "    <td>locationあり、officerなし。良さげ。</td> \n",
    "  </tr>\n",
    "  <tr>\n",
    "    <td>0613 1000</td>\n",
    "    <td>dayを追加。location/officerは追加</td> \n",
    "  </tr>\n",
    "  <tr>\n",
    "    <td>0613 1430</td>\n",
    "    <td>dayを追加。location/officerは追加</td> \n",
    "  </tr>\n",
    "  <tr>\n",
    "    <td>0613 1730</td>\n",
    "    <td>locationのうち小さいものを除去するなど。officerなし。良さげ。</td> \n",
    "  </tr>\n",
    "  <tr>\n",
    "    <td>0613 1800</td>\n",
    "    <td>location(>50)、officer(>1000)を追加。安定して0.88でる。</td> \n",
    "  </tr>\n",
    "</table>"
   ]
  },
  {
   "cell_type": "code",
   "execution_count": 138,
   "metadata": {},
   "outputs": [],
   "source": [
    "import pandas as pd\n",
    "import numpy as np\n",
    "from datetime import datetime"
   ]
  },
  {
   "cell_type": "code",
   "execution_count": 154,
   "metadata": {},
   "outputs": [],
   "source": [
    "df = pd.read_csv(\"test.csv\")"
   ]
  },
  {
   "cell_type": "markdown",
   "metadata": {},
   "source": [
    "以下、データの成形を行なっていく。\n",
    "\n",
    "Violationに関しては、カンマ区切りにされているviolationの種類をstr.splitで分割した上で、全てのviolationの種類をまとめたリストを作成する。このリストをカラム名とし、各indexについて対応するviolationの値を1とする。"
   ]
  },
  {
   "cell_type": "code",
   "execution_count": 155,
   "metadata": {},
   "outputs": [],
   "source": [
    "# violationの種類を検索\n",
    "df_violation = df[\"violation\"].str.split(',',expand=True)\n",
    "violation_list = np.array([])\n",
    "\n",
    "\"\"\"\n",
    "for i in range(0,4):\n",
    "    violation_list = np.append(violation_list,df_violation[0].unique())\n",
    "violation_list = np.unique(violation_list)\n",
    "\"\"\"\n",
    "\n",
    "violation_list = np.array(['Cell phone', 'Equipment', 'License', 'Lights', 'Moving violation',\n",
    "       'Other', 'Registration/plates', 'Safe movement', 'Seat belt',\n",
    "       'Speeding', 'Stop sign/light'], dtype=object)\n",
    "\n",
    "for list in violation_list:\n",
    "    df[\"violation_\"+list] = np.zeros(df.contraband_found.count())\n",
    "    for i in range(0,4):\n",
    "        df.loc[df_violation[i]==list,\"violation_\"+list]=1"
   ]
  },
  {
   "cell_type": "code",
   "execution_count": 156,
   "metadata": {},
   "outputs": [],
   "source": [
    "# stop_durationを数値に直す\n",
    "# 2回目以降の実行ではエラー\n",
    "df.loc[df[\"stop_duration\"]==\"1-15 min\",\"stop_duration\"]=0\n",
    "df.loc[df[\"stop_duration\"]==\"16-30 min\",\"stop_duration\"]=1\n",
    "df.loc[df[\"stop_duration\"]==\"30+ min\",\"stop_duration\"]=2\n",
    "\n",
    "# driver_genderを数値に直す\n",
    "# 2回目以降の実行ではエラー\n",
    "df.loc[df[\"driver_gender\"]==\"M\",\"driver_gender\"]=0\n",
    "df.loc[df[\"driver_gender\"]==\"F\",\"driver_gender\"]=1"
   ]
  },
  {
   "cell_type": "code",
   "execution_count": 157,
   "metadata": {},
   "outputs": [],
   "source": [
    "df['stop_time'] = pd.to_datetime(df['stop_time'])\n",
    "df['stop_date'] = pd.to_datetime(df['stop_date'])\n",
    "df[\"stop_weekday_name\"] = df[\"stop_date\"].dt.weekday_name\n",
    "df[\"stop_month\"] = df[\"stop_date\"].dt.month    \n",
    "df[\"stop_year\"] = df[\"stop_date\"].dt.year\n",
    "df[\"stop_hour\"] = df[\"stop_time\"].dt.hour\n",
    "df[\"stop_day\"] = df[\"stop_date\"].dt.day"
   ]
  },
  {
   "cell_type": "code",
   "execution_count": 158,
   "metadata": {},
   "outputs": [],
   "source": [
    "df = pd.get_dummies(df,columns=[\"stop_month\"], prefix='stop_month', prefix_sep='_')\n",
    "df = pd.get_dummies(df,columns=[\"stop_year\"], prefix='stop_year', prefix_sep='_')\n",
    "df = pd.get_dummies(df,columns=[\"stop_weekday_name\"], prefix='stop_day', prefix_sep='_')\n",
    "df = pd.get_dummies(df,columns=[\"stop_hour\"], prefix='stop_hour', prefix_sep='_')\n",
    "\n",
    "df = pd.get_dummies(df,columns=[\"driver_race\"],prefix='race',prefix_sep='_')\n",
    "\n",
    "df = pd.get_dummies(df,columns=[\"search_type\"], prefix='search', prefix_sep='_')\n",
    "\n",
    "df = pd.get_dummies(df,columns=[\"county_name\"], drop_first=True, prefix='county', prefix_sep='_')"
   ]
  },
  {
   "cell_type": "code",
   "execution_count": 159,
   "metadata": {},
   "outputs": [],
   "source": [
    "df = df.drop([\"stop_date\",\"stop_time\",\"search_type_raw\",\"search_conducted\",\"county_fips\"\n",
    "              ,\"driver_race_raw\",\"violation\",\"violation_raw\",\"state\"\n",
    "              ,\"police_department\",\"driver_age\"],axis=1)"
   ]
  },
  {
   "cell_type": "code",
   "execution_count": 160,
   "metadata": {},
   "outputs": [],
   "source": [
    "df[\"contraband_found\"] = df[\"contraband_found\"]*1"
   ]
  },
  {
   "cell_type": "code",
   "execution_count": 161,
   "metadata": {},
   "outputs": [],
   "source": [
    "df[\"location_raw\"] = df[\"location_raw\"].fillna(\"N/A\")\n",
    "df[\"fine_grained_location\"] = df[\"fine_grained_location\"].fillna(\"N/A\")"
   ]
  },
  {
   "cell_type": "code",
   "execution_count": 162,
   "metadata": {},
   "outputs": [],
   "source": [
    "df[\"location_exit\"] = 0\n",
    "df.loc[df[\"fine_grained_location\"].str.contains(\"X\"),\"location_exit\"] = 1\n",
    "df.loc[df[\"fine_grained_location\"].str.contains(\"x\"),\"location_exit\"] = 1\n",
    "df.loc[df[\"fine_grained_location\"].str.contains(\"sex\"),\"location_exit\"] = 0\n",
    "\n",
    "df[\"location_route\"] = 0\n",
    "df.loc[df[\"fine_grained_location\"].str.contains(\"rt\"),\"location_route\"] = 1\n",
    "df.loc[df[\"fine_grained_location\"].str.contains(\"rte \"),\"location_route\"] = 1\n",
    "df.loc[df[\"fine_grained_location\"].str.contains(\"RT.\"),\"location_route\"] = 1\n",
    "df.loc[df[\"fine_grained_location\"].str.contains(\"RT \"),\"location_route\"] = 1\n",
    "df.loc[df[\"fine_grained_location\"].str.contains(\"rT \"),\"location_route\"] = 1\n",
    "df.loc[df[\"fine_grained_location\"].str.contains(\"Route\"),\"location_route\"] = 1\n",
    "df.loc[df[\"fine_grained_location\"].str.contains(\"Rte\"),\"location_route\"] = 1\n",
    "df.loc[df[\"fine_grained_location\"].str.contains(\"Rt\"),\"location_route\"] = 1\n",
    "\n",
    "df[\"location_00000\"] = 0\n",
    "df.loc[df[\"fine_grained_location\"].str.contains(\"000\"),\"location_00000\"] = 1"
   ]
  },
  {
   "cell_type": "code",
   "execution_count": 163,
   "metadata": {},
   "outputs": [],
   "source": [
    "df.loc[df[\"location_raw\"]==\"e lyme\",\"location_raw\"] = \"east lyme\"\n",
    "df.loc[df[\"location_raw\"]==\"e hartford\",\"location_raw\"] = \"east hartford\"\n",
    "df.loc[df[\"location_raw\"]==\"e granby\",\"location_raw\"] = \"east granby\"\n",
    "df.loc[df[\"location_raw\"]==\"no stonington\",\"location_raw\"] = \"north stonington\"\n",
    "df.loc[df[\"location_raw\"]==\"no canaan\",\"location_raw\"] = \"north canaan\""
   ]
  },
  {
   "cell_type": "code",
   "execution_count": 164,
   "metadata": {},
   "outputs": [],
   "source": [
    "df[\"location_raw\"].unique()\n",
    "location_list = np.array(['berlin', 'greenwich', 'brooklyn', 'essex', 'union', 'shelton',\n",
    "       'naugatuck', 'manchester', 'meriden', 'bridgeport', 'chester',\n",
    "       'montville', 'oxford', 'beacon falls', 'waterford', 'ledyard',\n",
    "       'middlefield', 'southbury', 'killingly', 'andover', 'colchester',\n",
    "       'trumbull', 'bozrah', 'windsor', 'westport', 'litchfield',\n",
    "       'coventry', 'plainfield', 'thompson', 'stonington', 'stafford',\n",
    "       'middletown', 'harwinton', 'stratford', 'columbia',\n",
    "       'new haven', 'mansfield', 'griswold', 'windham', 'hebron',\n",
    "       'old saybrook', 'west haven', 'torrington', 'preston', 'sterling',\n",
    "       'north stonington', 'vernon', 'deep river', 'hartford',\n",
    "       'brookfield', 'darien', 'enfield', 'new britain', 'old lyme',\n",
    "       'norwalk', 'willington', 'branford', 'wethersfield', 'sherman',\n",
    "       'marlborough', 'somers', 'hamden', 'waterbury', 'barkhamsted',\n",
    "       'stamford', 'clinton', 'ashford', 'east haddam', 'danbury',\n",
    "       'lebanon', 'southington', 'watertown', 'milford', 'tolland',\n",
    "       'windsor locks', 'madison', 'orange', 'westbrook', 'putnam',\n",
    "       'north haven', 'ellington', 'burlington', 'franklin',\n",
    "       'bridgewater', 'groton', 'fairfield', 'new hartford', 'bolton',\n",
    "       'guilford', 'wallingford', 'newtown', 'east hartford', 'granby',\n",
    "       'woodbridge', 'farmington', 'new canaan', 'norwich', 'voluntown',\n",
    "       'sharon', 'durham', 'haddam', 'rocky hill', 'salem', 'bethlehem',\n",
    "       'seymour', 'winchester', 'thomaston', 'lisbon', 'roxbury',\n",
    "       'cromwell', 'east granby', 'west hartford', 'woodbury',\n",
    "       'middlebury', 'cornwall', 'east windsor', 'north canaan',\n",
    "       'cheshire', 'norfolk', 'east lyme', 'derby', 'newington',\n",
    "       'woodstock', 'goshen', 'new milford', 'bethany', 'scotland',\n",
    "       'colebrook', 'prospect', 'glastonbury', 'hampton', 'sprague',\n",
    "       'canterbury', 'new london', 'bethel', 'morris', 'salisbury',\n",
    "       'pomfret', 'north branford', 'east haven', 'kent', 'ansonia',\n",
    "       'killingworth', 'chaplin', 'plainville', 'bloomfield',\n",
    "       'canaan', 'south windsor', 'washighton', 'hartland', 'eastford',\n",
    "       'new fairfield', 'warren', 'lyme', 'bristol',\n",
    "       'plymouth', 'easton'],\n",
    "      dtype=object)"
   ]
  },
  {
   "cell_type": "code",
   "execution_count": 165,
   "metadata": {},
   "outputs": [
    {
     "data": {
      "text/plain": [
       "array([], dtype=int64)"
      ]
     },
     "execution_count": 165,
     "metadata": {},
     "output_type": "execute_result"
    }
   ],
   "source": [
    "df[\"officer_id\"].unique()[df[\"officer_id\"].value_counts()>1000]"
   ]
  },
  {
   "cell_type": "code",
   "execution_count": 166,
   "metadata": {},
   "outputs": [],
   "source": [
    "df[\"officer_id\"].unique()[df[\"officer_id\"].value_counts()>50]\n",
    "officer_list = np.array(['55887736', '770626977', '1000002961', '1000002376', '70583331',\n",
    "       '1000002714', '1000003026', '1000002219', '298463910',\n",
    "       '1000002220', '1000003191'],\n",
    "      dtype=object)"
   ]
  },
  {
   "cell_type": "code",
   "execution_count": 167,
   "metadata": {},
   "outputs": [
    {
     "name": "stdout",
     "output_type": "stream",
     "text": [
      "CPU times: user 35.3 s, sys: 5.75 s, total: 41.1 s\n",
      "Wall time: 10.8 s\n"
     ]
    }
   ],
   "source": [
    "%%time\n",
    "for list in location_list:\n",
    "    df[\"location_\"+list] = np.zeros(df.contraband_found.count())\n",
    "    df.loc[df[\"location_raw\"]==list,\"location_\"+list]=1"
   ]
  },
  {
   "cell_type": "code",
   "execution_count": 168,
   "metadata": {},
   "outputs": [
    {
     "name": "stdout",
     "output_type": "stream",
     "text": [
      "CPU times: user 3.75 s, sys: 832 ms, total: 4.58 s\n",
      "Wall time: 1.15 s\n"
     ]
    }
   ],
   "source": [
    "%%time\n",
    "for list in officer_list:\n",
    "    df[\"officer_\"+str(list)] = np.zeros(df.contraband_found.count())\n",
    "    df.loc[df[\"location_raw\"]==str(list),\"officer_\"+str(list)]=1"
   ]
  },
  {
   "cell_type": "code",
   "execution_count": 169,
   "metadata": {},
   "outputs": [],
   "source": [
    "df[\"location_I84\"] = 0\n",
    "df.loc[(df[\"fine_grained_location\"].str.contains(\"84\")),\"location_I84\"] = 1\n",
    "\n",
    "df[\"location_I91\"] = 0\n",
    "df.loc[(df[\"fine_grained_location\"].str.contains(\"91\")) & ~(df[\"fine_grained_location\"].str.contains(\"T091\")),\"location_I91\"] = 1\n",
    "\n",
    "df[\"location_I95\"] = 0\n",
    "df.loc[(df[\"fine_grained_location\"].str.contains(\"95\")) & ~(df[\"fine_grained_location\"].str.contains(\"T095\")),\"location_I95\"] = 1\n",
    "\n",
    "df[\"location_I395\"] = 0\n",
    "df.loc[(df[\"fine_grained_location\"].str.contains(\"395\")) & ~(df[\"fine_grained_location\"].str.contains(\"T395\")),\"location_I395\"] = 1"
   ]
  },
  {
   "cell_type": "code",
   "execution_count": 170,
   "metadata": {},
   "outputs": [],
   "source": [
    "df = df.drop([\"fine_grained_location\",\"location_raw\",\"officer_id\"],axis=1)"
   ]
  },
  {
   "cell_type": "code",
   "execution_count": 171,
   "metadata": {},
   "outputs": [
    {
     "name": "stdout",
     "output_type": "stream",
     "text": [
      "<class 'pandas.core.frame.DataFrame'>\n",
      "RangeIndex: 93994 entries, 0 to 93993\n",
      "Columns: 252 entries, driver_gender to location_I395\n",
      "dtypes: float64(179), int64(12), uint8(61)\n",
      "memory usage: 142.4 MB\n"
     ]
    }
   ],
   "source": [
    "df.info()"
   ]
  },
  {
   "cell_type": "code",
   "execution_count": 172,
   "metadata": {},
   "outputs": [],
   "source": [
    "df.to_csv('test_clean_06131800.csv',sep=',',index=False)"
   ]
  },
  {
   "cell_type": "code",
   "execution_count": null,
   "metadata": {},
   "outputs": [],
   "source": []
  }
 ],
 "metadata": {
  "kernelspec": {
   "display_name": "Python 3",
   "language": "python",
   "name": "python3"
  },
  "language_info": {
   "codemirror_mode": {
    "name": "ipython",
    "version": 3
   },
   "file_extension": ".py",
   "mimetype": "text/x-python",
   "name": "python",
   "nbconvert_exporter": "python",
   "pygments_lexer": "ipython3",
   "version": "3.6.5"
  }
 },
 "nbformat": 4,
 "nbformat_minor": 2
}
