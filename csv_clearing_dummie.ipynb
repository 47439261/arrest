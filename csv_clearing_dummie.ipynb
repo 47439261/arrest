{
 "cells": [
  {
   "cell_type": "markdown",
   "metadata": {},
   "source": [
    "メモ\n",
    "I91,95,84あたりは多い"
   ]
  },
  {
   "cell_type": "markdown",
   "metadata": {},
   "source": [
    "<table>\n",
    "  <thead>\n",
    "  <tr>\n",
    "    <td>更新日時</td>\n",
    "    <td>変更内容</td>    \n",
    "  </tr>\n",
    "  </thead>\n",
    "  <tr>\n",
    "    <td>0613 0930</td>\n",
    "    <td>dayを追加。officerを除去</td> \n",
    "  </tr>\n",
    "  <tr>\n",
    "    <td>0613 1000</td>\n",
    "    <td>dayを追加。location/officerは追加</td> \n",
    "  </tr>\n",
    "</table>"
   ]
  },
  {
   "cell_type": "code",
   "execution_count": 1,
   "metadata": {},
   "outputs": [],
   "source": [
    "import pandas as pd\n",
    "import numpy as np\n",
    "from datetime import datetime"
   ]
  },
  {
   "cell_type": "code",
   "execution_count": 2,
   "metadata": {},
   "outputs": [
    {
     "name": "stderr",
     "output_type": "stream",
     "text": [
      "/home/minoda/.pyenv/versions/anaconda3-5.2.0/lib/python3.6/site-packages/IPython/core/interactiveshell.py:2785: DtypeWarning: Columns (19) have mixed types. Specify dtype option on import or set low_memory=False.\n",
      "  interactivity=interactivity, compiler=compiler, result=result)\n"
     ]
    }
   ],
   "source": [
    "df = pd.read_csv(\"train.csv\")"
   ]
  },
  {
   "cell_type": "code",
   "execution_count": 6,
   "metadata": {},
   "outputs": [
    {
     "data": {
      "text/plain": [
       "Native American    1220\n",
       "Name: driver_race_raw, dtype: int64"
      ]
     },
     "execution_count": 6,
     "metadata": {},
     "output_type": "execute_result"
    }
   ],
   "source": [
    "df[df[\"driver_race\"]==\"Other\"][\"driver_race_raw\"].value_counts()"
   ]
  },
  {
   "cell_type": "markdown",
   "metadata": {},
   "source": [
    "以下、データの成形を行なっていく。\n",
    "\n",
    "Violationに関しては、カンマ区切りにされているviolationの種類をstr.splitで分割した上で、全てのviolationの種類をまとめたリストを作成する。このリストをカラム名とし、各indexについて対応するviolationの値を1とする。"
   ]
  },
  {
   "cell_type": "code",
   "execution_count": 56,
   "metadata": {},
   "outputs": [],
   "source": [
    "# violationの種類を検索\n",
    "df_violation = df[\"violation\"].str.split(',',expand=True)\n",
    "violation_list = np.array([])\n",
    "\n",
    "\"\"\"\n",
    "for i in range(0,4):\n",
    "    violation_list = np.append(violation_list,df_violation[0].unique())\n",
    "violation_list = np.unique(violation_list)\n",
    "\"\"\"\n",
    "\n",
    "violation_list = np.array(['Cell phone', 'Equipment', 'License', 'Lights', 'Moving violation',\n",
    "       'Other', 'Registration/plates', 'Safe movement', 'Seat belt',\n",
    "       'Speeding', 'Stop sign/light'], dtype=object)\n",
    "\n",
    "for list in violation_list:\n",
    "    df[\"violation_\"+list] = np.zeros(df.contraband_found.count())\n",
    "    for i in range(0,4):\n",
    "        df.loc[df_violation[i]==list,\"violation_\"+list]=1"
   ]
  },
  {
   "cell_type": "code",
   "execution_count": 57,
   "metadata": {},
   "outputs": [],
   "source": [
    "# stop_durationを数値に直す\n",
    "# 2回目以降の実行ではエラー\n",
    "df.loc[df[\"stop_duration\"]==\"1-15 min\",\"stop_duration\"]=0\n",
    "df.loc[df[\"stop_duration\"]==\"16-30 min\",\"stop_duration\"]=1\n",
    "df.loc[df[\"stop_duration\"]==\"30+ min\",\"stop_duration\"]=2\n",
    "\n",
    "# driver_genderを数値に直す\n",
    "# 2回目以降の実行ではエラー\n",
    "df.loc[df[\"driver_gender\"]==\"M\",\"driver_gender\"]=0\n",
    "df.loc[df[\"driver_gender\"]==\"F\",\"driver_gender\"]=1"
   ]
  },
  {
   "cell_type": "code",
   "execution_count": 58,
   "metadata": {},
   "outputs": [
    {
     "data": {
      "text/plain": [
       "White       71564\n",
       "Black       11067\n",
       "Hispanic     9126\n",
       "Asian        1731\n",
       "Other         506\n",
       "Name: driver_race, dtype: int64"
      ]
     },
     "execution_count": 58,
     "metadata": {},
     "output_type": "execute_result"
    }
   ],
   "source": [
    "df[\"driver_race\"].value_counts()"
   ]
  },
  {
   "cell_type": "code",
   "execution_count": 59,
   "metadata": {},
   "outputs": [],
   "source": [
    "df['stop_time'] = pd.to_datetime(df['stop_time'])\n",
    "df['stop_date'] = pd.to_datetime(df['stop_date'])\n",
    "df[\"stop_weekday_name\"] = df[\"stop_date\"].dt.weekday_name\n",
    "df[\"stop_month\"] = df[\"stop_date\"].dt.month    \n",
    "df[\"stop_year\"] = df[\"stop_date\"].dt.year\n",
    "df[\"stop_hour\"] = df[\"stop_time\"].dt.hour\n",
    "df[\"stop_day\"] = df[\"stop_date\"].dt.day"
   ]
  },
  {
   "cell_type": "code",
   "execution_count": 60,
   "metadata": {},
   "outputs": [],
   "source": [
    "df = pd.get_dummies(df,columns=[\"stop_month\"], prefix='stop_month', prefix_sep='_')\n",
    "df = pd.get_dummies(df,columns=[\"stop_year\"], prefix='stop_year', prefix_sep='_')\n",
    "df = pd.get_dummies(df,columns=[\"stop_weekday_name\"], prefix='stop_day', prefix_sep='_')\n",
    "df = pd.get_dummies(df,columns=[\"stop_hour\"], prefix='stop_hour', prefix_sep='_')\n",
    "\n",
    "df = pd.get_dummies(df,columns=[\"driver_race\"],prefix='race',prefix_sep='_')\n",
    "\n",
    "df = pd.get_dummies(df,columns=[\"search_type\"], prefix='search', prefix_sep='_')\n",
    "\n",
    "df = pd.get_dummies(df,columns=[\"county_name\"], drop_first=True, prefix='county', prefix_sep='_')"
   ]
  },
  {
   "cell_type": "code",
   "execution_count": 61,
   "metadata": {},
   "outputs": [],
   "source": [
    "df = df.drop([\"stop_date\",\"stop_time\",\"search_type_raw\",\"search_conducted\",\"county_fips\"\n",
    "              ,\"driver_race_raw\",\"violation\",\"violation_raw\",\"state\"\n",
    "              ,\"police_department\",\"driver_age\"],axis=1)"
   ]
  },
  {
   "cell_type": "code",
   "execution_count": 62,
   "metadata": {},
   "outputs": [],
   "source": [
    "df[\"contraband_found\"] = df[\"contraband_found\"]*1"
   ]
  },
  {
   "cell_type": "code",
   "execution_count": 63,
   "metadata": {},
   "outputs": [],
   "source": [
    "#df[\"location_raw\"] = df[\"location_raw\"].fillna(\"N/A\")\n",
    "df[\"fine_grained_location\"] = df[\"fine_grained_location\"].fillna(\"N/A\")"
   ]
  },
  {
   "cell_type": "code",
   "execution_count": 64,
   "metadata": {},
   "outputs": [],
   "source": [
    "df[\"location_exit\"] = 0\n",
    "df.loc[df[\"fine_grained_location\"].str.contains(\"X\"),\"location_exit\"] = 1\n",
    "df.loc[df[\"fine_grained_location\"].str.contains(\"x\"),\"location_exit\"] = 1\n",
    "df.loc[df[\"fine_grained_location\"].str.contains(\"sex\"),\"location_exit\"] = 0\n",
    "\n",
    "df[\"location_route\"] = 0\n",
    "df.loc[df[\"fine_grained_location\"].str.contains(\"rt\"),\"location_route\"] = 1\n",
    "df.loc[df[\"fine_grained_location\"].str.contains(\"rte \"),\"location_route\"] = 1\n",
    "df.loc[df[\"fine_grained_location\"].str.contains(\"RT.\"),\"location_route\"] = 1\n",
    "df.loc[df[\"fine_grained_location\"].str.contains(\"RT \"),\"location_route\"] = 1\n",
    "df.loc[df[\"fine_grained_location\"].str.contains(\"rT \"),\"location_route\"] = 1\n",
    "df.loc[df[\"fine_grained_location\"].str.contains(\"Route\"),\"location_route\"] = 1\n",
    "df.loc[df[\"fine_grained_location\"].str.contains(\"Rte\"),\"location_route\"] = 1\n",
    "df.loc[df[\"fine_grained_location\"].str.contains(\"Rt\"),\"location_route\"] = 1\n",
    "\n",
    "df[\"location_00000\"] = 0\n",
    "df.loc[df[\"fine_grained_location\"].str.contains(\"000\"),\"location_00000\"] = 1"
   ]
  },
  {
   "cell_type": "code",
   "execution_count": 65,
   "metadata": {},
   "outputs": [],
   "source": [
    "df[\"location_raw\"].unique()\n",
    "location_list = np.array(['berlin', 'greenwich', 'brooklyn', 'essex', 'union', 'shelton',\n",
    "       'naugatuck', 'manchester', 'meriden', 'bridgeport', 'chester',\n",
    "       'montville', 'oxford', 'beacon falls', 'waterford', 'ledyard',\n",
    "       'middlefield', 'southbury', 'killingly', 'andover', 'colchester',\n",
    "       'trumbull', 'bozrah', 'windsor', 'westport', 'litchfield',\n",
    "       'coventry', 'plainfield', 'thompson', 'stonington', 'stafford',\n",
    "       'middletown', 'harwinton', 'washington', 'stratford', 'columbia',\n",
    "       'new haven', 'mansfield', 'griswold', 'windham', 'hebron',\n",
    "       'old saybrook', 'west haven', 'torrington', 'preston', 'sterling',\n",
    "       'north stonington', 'vernon', 'deep river', 'hartford',\n",
    "       'brookfield', 'darien', 'enfield', 'new britain', 'old lyme',\n",
    "       'norwalk', 'willington', 'branford', 'wethersfield', 'sherman',\n",
    "       'marlborough', 'somers', 'hamden', 'waterbury', 'barkhamsted',\n",
    "       'stamford', 'clinton', 'ashford', 'east haddam', 'danbury',\n",
    "       'lebanon', 'southington', 'watertown', 'milford', 'tolland',\n",
    "       'windsor locks', 'madison', 'orange', 'westbrook', 'putnam',\n",
    "       'north haven', 'ellington', 'burlington', 'franklin',\n",
    "       'bridgewater', 'groton', 'fairfield', 'new hartford', 'bolton',\n",
    "       'guilford', 'wallingford', 'newtown', 'east hartford', 'granby',\n",
    "       'woodbridge', 'farmington', 'new canaan', 'norwich', 'voluntown',\n",
    "       'sharon', 'durham', 'haddam', 'rocky hill', 'salem', 'bethlehem',\n",
    "       'seymour', 'winchester', 'thomaston', 'lisbon', 'roxbury',\n",
    "       'cromwell', 'east granby', 'west hartford', 'woodbury',\n",
    "       'middlebury', 'cornwall', 'east windsor', 'north canaan',\n",
    "       'cheshire', 'norfolk', 'east lyme', 'derby', 'newington',\n",
    "       'woodstock', 'goshen', 'new milford', 'bethany', 'scotland',\n",
    "       'colebrook', 'prospect', 'glastonbury', 'hampton', 'sprague',\n",
    "       'canterbury', 'new london', 'bethel', 'morris', 'salisbury',\n",
    "       'pomfret', 'north branford', 'east haven', 'kent', 'ansonia',\n",
    "       'killingworth', 'chaplin', 'plainville', 'bloomfield', 'canton',\n",
    "       'canaan', 'south windsor', 'washighton', 'hartland', 'eastford',\n",
    "       'east hampton', 'new fairfield', 'warren', 'lyme', 'bristol',\n",
    "       'plymouth', 'easton', 'suffield', 'e granby', 'simsbury',\n",
    "       'portland', 'monroe', 'avon', 'no stonington', 'wolcott',\n",
    "       'centerbrook', 'sprague - versailles', 'no canaan', 't165',\n",
    "       'winsted', 'ridgefield', 'sprague - baltic', 'danielson',\n",
    "       'ivoryton', 'wilton', 'storrs', 'e hartford', 'e lyme'],\n",
    "      dtype=object)"
   ]
  },
  {
   "cell_type": "code",
   "execution_count": 66,
   "metadata": {},
   "outputs": [],
   "source": [
    "df[\"officer_id\"].unique()[df[\"officer_id\"].value_counts()>50]\n",
    "officer_list = np.array([55887736, 770626977, 1000002961, 1000002376, 70583331, 1000002714,\n",
    "       1000003026, 1000002219, 298463910, 1000002220, 1000003191,\n",
    "       1000003177, 1000002710, 1000003167, 653242422, 1000001884,\n",
    "       277048371, 1000003181, 1000003235, 1000001983, 1000002599,\n",
    "       1000003171, 1000003221, 1000002238, 1000002587, 1000002944,\n",
    "       1000003198, 742774399, 1000002946, 540042328, 614680420,\n",
    "       1000002270, 483102647, 104759822, 159668340, 1000001956, 642677890,\n",
    "       1000002353, 469479530, 1000002703, 1000002613, 934977327,\n",
    "       1000003163, 1000002591, 747377440, 1000002244, 1000002259,\n",
    "       953549550, 1000002256, 853847642, 702562013, 1000002569,\n",
    "       1000002708, 710252242, 116991428, 1000001923, 1000003230,\n",
    "       322409049, 1000002750, 308565279, 1000003205, 637071474,\n",
    "       1000002702, 1000002959, 1000002208, 1000002479, 1000003211,\n",
    "       1000001939, 19018, 706750556, 1000002747, 1000003213, 520878322,\n",
    "       1000002608, 1000003215, 1000002385, 927601465, 31240166, 331752178,\n",
    "       1000003196, 1000002377, 1000002761, 18907, 1000001893, 1000003021,\n",
    "       607163196, 1000002546, 257011101, 829157681, 26013717, 1000002235,\n",
    "       230931989, 668908943, 722065405, 1000003194, 533883416, 944661814,\n",
    "       915131263, 1000002728, 824655496, 908158929, 1000002362,\n",
    "       1000003174, 1000002748, 599200807, 1000002240, 1000003017,\n",
    "       1000002727, 1000002875, 1000003162, 1000003229, 1000001940,\n",
    "       1000003363, 726828835, 872476022, 1000001996, 190163716,\n",
    "       1000003156, 1000002617, 1000002598, 1000002940, 1000002575,\n",
    "       1000003182, 265069536, 71903124, 1000002939, 1000003387,\n",
    "       1000002349, 960967070, 424481709, 1000003031, 1000002952,\n",
    "       713140385, 1000002380, 413162233, 668836964, 1000003186, 124039771,\n",
    "       1000002576, 424133385, 1000002760, 1000003203, 13468937, 329593147,\n",
    "       1000003055, 1000003029, 293708152, 567049933, 1000003160, 78218753,\n",
    "       785469339, 1000002237, 41354688, 1000003384, 1000003022,\n",
    "       1000003272, 940662250, 335699444, 279965403, 1000003353, 725428335,\n",
    "       807433607, 1000002740, 418117108, 1000001914, 1000001949,\n",
    "       1000003195, 826689753, 1000002726, 1000002602, 1000003223,\n",
    "       684190569, 1000002954, 106840086, 1000003225, 1000002634,\n",
    "       439075424, 1000002623, 1000002243, 19172, 1000002960, 1000003392,\n",
    "       1000002371, 1000002271, 1000002097, 1000002721, 381521852,\n",
    "       1000002942, 418720717, 1000003168, 253215760, 89095882, 1000003399,\n",
    "       1000003208, 29992679, 498167384, 495322141, 861164535, 1000002949,\n",
    "       1000002217, 1000002590, 1000003034, 1000002758, 1000001920,\n",
    "       1000003175, 1000003155, 1000003189, 1000002743, 1000003207,\n",
    "       1000002957, 1000001918, 790642042, 506911367, 18893, 961269420,\n",
    "       1000003197, 1000002955, 1000001903, 983655904, 899734338, 46852777,\n",
    "       565408419, 1000003154, 415391716, 1000002732, 1000003092,\n",
    "       1000001917, 562015716, 1000002762, 708150264, 1000003037,\n",
    "       1000003377, 1000002733, 19012, 577714579, 324857301, 671622127,\n",
    "       488417172, 167438590, 1000002730, 1000002763, 1000002265,\n",
    "       697576848, 19209, 1000001922, 106659415, 1000002855, 1000002752,\n",
    "       1000003176, 941674240, 939084757, 569478224, 88120, 512066154,\n",
    "       1000002549, 1000003166, 1000002618, 363177935, 23041953,\n",
    "       1000001885, 1000002604, 1000002363, 634601902, 1000002906,\n",
    "       1000002606, 1000002707, 607702361, 480852965, 1000003310,\n",
    "       113658284, 1000003124, 1000002578, 480991900, 201145055, 178825628,\n",
    "       241315469, 1000001899, 11486393, 94016, 627195004, 381140169,\n",
    "       1000002715, 1000002233, 726303957, 88185785, 1000003200, 875724425,\n",
    "       1000002593, 1000002709, 1000002586, 448051592, 987312802,\n",
    "       1000003234, 1000003192, 907060051, 462749467, 258421805,\n",
    "       1000003164, 848339269, 641939147, 938887034, 1000002624,\n",
    "       1000001952, 1000003032, 970826817, 1000001935, 1000002724,\n",
    "       1000003397, 1000002207, 61208768, 1000002204, 1000003169,\n",
    "       1000001927, 349680451, 1000003183, 1000002869, 120121335,\n",
    "       556481407, 336159473, 1000002384, 257227481, 759517227, 1000001941,\n",
    "       612222124, 281119621, 923295155, 1000002723, 830814942, 1000003227,\n",
    "       910711431, 1000003218, 639567735, 389731444, 71080948, 1000003024,\n",
    "       764772746, 1000002221, 1000001998, 735104535, 1000002565,\n",
    "       1000002592, 1000002741, 288030420, 95565661, 1000003352,\n",
    "       1000002950, 1000002369, 849715205, 1000003356, 1000001948,\n",
    "       1000002625, 23609079, 1000003368, 240586212, 445842676, 10450,\n",
    "       351062524, 447203558, 1000002895, 1000002705, 827637066,\n",
    "       1000002600, 18936, 195480226, 680984616, 1000002370, 1000003226],\n",
    "      dtype=object)"
   ]
  },
  {
   "cell_type": "code",
   "execution_count": 67,
   "metadata": {},
   "outputs": [
    {
     "name": "stdout",
     "output_type": "stream",
     "text": [
      "CPU times: user 1min 4s, sys: 5.28 s, total: 1min 9s\n",
      "Wall time: 8.78 s\n"
     ]
    }
   ],
   "source": [
    "%%time\n",
    "for list in location_list:\n",
    "    df[\"location_\"+list] = np.zeros(df.contraband_found.count())\n",
    "    df.loc[df[\"location_raw\"]==list,\"location_\"+list]=1"
   ]
  },
  {
   "cell_type": "code",
   "execution_count": 33,
   "metadata": {},
   "outputs": [
    {
     "name": "stdout",
     "output_type": "stream",
     "text": [
      "CPU times: user 4min 3s, sys: 53.3 s, total: 4min 56s\n",
      "Wall time: 1min 27s\n"
     ]
    }
   ],
   "source": [
    "%%time\n",
    "for list in officer_list:\n",
    "    df[\"officer_\"+str(list)] = np.zeros(df.contraband_found.count())\n",
    "    df.loc[df[\"location_raw\"]==str(list),\"officer_\"+str(list)]=1"
   ]
  },
  {
   "cell_type": "code",
   "execution_count": 68,
   "metadata": {},
   "outputs": [],
   "source": [
    "df[\"location_I84\"] = 0\n",
    "df.loc[(df[\"fine_grained_location\"].str.contains(\"84\")),\"location_I84\"] = 1\n",
    "\n",
    "df[\"location_I91\"] = 0\n",
    "df.loc[(df[\"fine_grained_location\"].str.contains(\"91\")) & ~(df[\"fine_grained_location\"].str.contains(\"T091\")),\"location_I91\"] = 1\n",
    "\n",
    "df[\"location_I95\"] = 0\n",
    "df.loc[(df[\"fine_grained_location\"].str.contains(\"95\")) & ~(df[\"fine_grained_location\"].str.contains(\"T095\")),\"location_I95\"] = 1\n",
    "\n",
    "df[\"location_I395\"] = 0\n",
    "df.loc[(df[\"fine_grained_location\"].str.contains(\"395\")) & ~(df[\"fine_grained_location\"].str.contains(\"T395\")),\"location_I395\"] = 1"
   ]
  },
  {
   "cell_type": "code",
   "execution_count": 69,
   "metadata": {},
   "outputs": [],
   "source": [
    "df = df.drop([\"fine_grained_location\",\"location_raw\",\"officer_id\"],axis=1)"
   ]
  },
  {
   "cell_type": "code",
   "execution_count": 70,
   "metadata": {},
   "outputs": [],
   "source": [
    "df.to_csv('test_clean_06131430.csv',sep=',',index=False)"
   ]
  },
  {
   "cell_type": "code",
   "execution_count": null,
   "metadata": {},
   "outputs": [],
   "source": []
  }
 ],
 "metadata": {
  "kernelspec": {
   "display_name": "Python 3",
   "language": "python",
   "name": "python3"
  },
  "language_info": {
   "codemirror_mode": {
    "name": "ipython",
    "version": 3
   },
   "file_extension": ".py",
   "mimetype": "text/x-python",
   "name": "python",
   "nbconvert_exporter": "python",
   "pygments_lexer": "ipython3",
   "version": "3.6.5"
  }
 },
 "nbformat": 4,
 "nbformat_minor": 2
}
