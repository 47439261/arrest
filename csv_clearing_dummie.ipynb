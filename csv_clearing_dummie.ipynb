{
 "cells": [
  {
   "cell_type": "markdown",
   "metadata": {},
   "source": [
    "メモ\n",
    "I91,95,84あたりは多い"
   ]
  },
  {
   "cell_type": "markdown",
   "metadata": {},
   "source": [
    "<table>\n",
    "  <thead>\n",
    "  <tr>\n",
    "    <td>更新日時</td>\n",
    "    <td>変更内容</td>    \n",
    "  </tr>\n",
    "  </thead>\n",
    "  <tr>\n",
    "    <td>0611 1230</td>\n",
    "    <td>locationあり、officerなし。良さげ。</td> \n",
    "  </tr>\n",
    "  <tr>\n",
    "    <td>0613 1000</td>\n",
    "    <td>dayを追加。location/officerは追加</td> \n",
    "  </tr>\n",
    "  <tr>\n",
    "    <td>0613 1430</td>\n",
    "    <td>dayを追加。location/officerは追加</td> \n",
    "  </tr>\n",
    "  <tr>\n",
    "    <td>0613 1730</td>\n",
    "    <td>locationのうち小さいものを除去するなど。officerなし。良さげ。</td> \n",
    "  </tr>\n",
    "  <tr>\n",
    "    <td>0613 1800</td>\n",
    "    <td>location(>50)、officer(>1000)を追加。安定して0.88でる。</td> \n",
    "  </tr>\n",
    "</table>"
   ]
  },
  {
   "cell_type": "code",
   "execution_count": 96,
   "metadata": {},
   "outputs": [],
   "source": [
    "import pandas as pd\n",
    "import numpy as np\n",
    "from datetime import datetime"
   ]
  },
  {
   "cell_type": "code",
   "execution_count": 97,
   "metadata": {},
   "outputs": [],
   "source": [
    "df = pd.read_csv(\"test.csv\")\n",
    "ctlist = pd.read_csv(\"CTlist.csv\")"
   ]
  },
  {
   "cell_type": "code",
   "execution_count": 98,
   "metadata": {},
   "outputs": [
    {
     "data": {
      "text/html": [
       "<div>\n",
       "<style scoped>\n",
       "    .dataframe tbody tr th:only-of-type {\n",
       "        vertical-align: middle;\n",
       "    }\n",
       "\n",
       "    .dataframe tbody tr th {\n",
       "        vertical-align: top;\n",
       "    }\n",
       "\n",
       "    .dataframe thead th {\n",
       "        text-align: right;\n",
       "    }\n",
       "</style>\n",
       "<table border=\"1\" class=\"dataframe\">\n",
       "  <thead>\n",
       "    <tr style=\"text-align: right;\">\n",
       "      <th></th>\n",
       "      <th>state</th>\n",
       "      <th>stop_date</th>\n",
       "      <th>stop_time</th>\n",
       "      <th>location_raw</th>\n",
       "      <th>county_name</th>\n",
       "      <th>county_fips</th>\n",
       "      <th>fine_grained_location</th>\n",
       "      <th>police_department</th>\n",
       "      <th>driver_gender</th>\n",
       "      <th>driver_age_raw</th>\n",
       "      <th>...</th>\n",
       "      <th>driver_race_raw</th>\n",
       "      <th>driver_race</th>\n",
       "      <th>violation_raw</th>\n",
       "      <th>violation</th>\n",
       "      <th>search_conducted</th>\n",
       "      <th>search_type_raw</th>\n",
       "      <th>search_type</th>\n",
       "      <th>contraband_found</th>\n",
       "      <th>officer_id</th>\n",
       "      <th>stop_duration</th>\n",
       "    </tr>\n",
       "  </thead>\n",
       "  <tbody>\n",
       "    <tr>\n",
       "      <th>0</th>\n",
       "      <td>CT</td>\n",
       "      <td>2014-10-13</td>\n",
       "      <td>07:18</td>\n",
       "      <td>orange</td>\n",
       "      <td>New Haven County</td>\n",
       "      <td>9009.0</td>\n",
       "      <td>00000 S RT 15  (ORANGE, T107)</td>\n",
       "      <td>State Police</td>\n",
       "      <td>M</td>\n",
       "      <td>42</td>\n",
       "      <td>...</td>\n",
       "      <td>Black</td>\n",
       "      <td>Black</td>\n",
       "      <td>Moving Violation</td>\n",
       "      <td>Moving violation</td>\n",
       "      <td>False</td>\n",
       "      <td>NaN</td>\n",
       "      <td>NaN</td>\n",
       "      <td>False</td>\n",
       "      <td>19172</td>\n",
       "      <td>1-15 min</td>\n",
       "    </tr>\n",
       "    <tr>\n",
       "      <th>1</th>\n",
       "      <td>CT</td>\n",
       "      <td>2014-11-25</td>\n",
       "      <td>03:25</td>\n",
       "      <td>woodbury</td>\n",
       "      <td>Litchfield County</td>\n",
       "      <td>9005.0</td>\n",
       "      <td>RT 6</td>\n",
       "      <td>State Police</td>\n",
       "      <td>F</td>\n",
       "      <td>59</td>\n",
       "      <td>...</td>\n",
       "      <td>White</td>\n",
       "      <td>White</td>\n",
       "      <td>Registration</td>\n",
       "      <td>Registration/plates</td>\n",
       "      <td>False</td>\n",
       "      <td>NaN</td>\n",
       "      <td>NaN</td>\n",
       "      <td>False</td>\n",
       "      <td>1000002390</td>\n",
       "      <td>1-15 min</td>\n",
       "    </tr>\n",
       "    <tr>\n",
       "      <th>2</th>\n",
       "      <td>CT</td>\n",
       "      <td>2015-03-23</td>\n",
       "      <td>09:32</td>\n",
       "      <td>norwich</td>\n",
       "      <td>New London County</td>\n",
       "      <td>9011.0</td>\n",
       "      <td>i395nb x82</td>\n",
       "      <td>State Police</td>\n",
       "      <td>M</td>\n",
       "      <td>42</td>\n",
       "      <td>...</td>\n",
       "      <td>White</td>\n",
       "      <td>White</td>\n",
       "      <td>Other/Error</td>\n",
       "      <td>Other</td>\n",
       "      <td>False</td>\n",
       "      <td>NaN</td>\n",
       "      <td>NaN</td>\n",
       "      <td>False</td>\n",
       "      <td>1000003180</td>\n",
       "      <td>30+ min</td>\n",
       "    </tr>\n",
       "  </tbody>\n",
       "</table>\n",
       "<p>3 rows × 21 columns</p>\n",
       "</div>"
      ],
      "text/plain": [
       "  state   stop_date stop_time location_raw        county_name  county_fips  \\\n",
       "0    CT  2014-10-13     07:18       orange   New Haven County       9009.0   \n",
       "1    CT  2014-11-25     03:25     woodbury  Litchfield County       9005.0   \n",
       "2    CT  2015-03-23     09:32      norwich  New London County       9011.0   \n",
       "\n",
       "           fine_grained_location police_department driver_gender  \\\n",
       "0  00000 S RT 15  (ORANGE, T107)      State Police             M   \n",
       "1                           RT 6      State Police             F   \n",
       "2                     i395nb x82      State Police             M   \n",
       "\n",
       "   driver_age_raw      ...        driver_race_raw driver_race  \\\n",
       "0              42      ...                  Black       Black   \n",
       "1              59      ...                  White       White   \n",
       "2              42      ...                  White       White   \n",
       "\n",
       "      violation_raw            violation search_conducted  search_type_raw  \\\n",
       "0  Moving Violation     Moving violation            False              NaN   \n",
       "1      Registration  Registration/plates            False              NaN   \n",
       "2       Other/Error                Other            False              NaN   \n",
       "\n",
       "  search_type contraband_found  officer_id  stop_duration  \n",
       "0         NaN            False       19172       1-15 min  \n",
       "1         NaN            False  1000002390       1-15 min  \n",
       "2         NaN            False  1000003180        30+ min  \n",
       "\n",
       "[3 rows x 21 columns]"
      ]
     },
     "execution_count": 98,
     "metadata": {},
     "output_type": "execute_result"
    }
   ],
   "source": [
    "df.head(3)"
   ]
  },
  {
   "cell_type": "code",
   "execution_count": 99,
   "metadata": {},
   "outputs": [
    {
     "data": {
      "text/html": [
       "<div>\n",
       "<style scoped>\n",
       "    .dataframe tbody tr th:only-of-type {\n",
       "        vertical-align: middle;\n",
       "    }\n",
       "\n",
       "    .dataframe tbody tr th {\n",
       "        vertical-align: top;\n",
       "    }\n",
       "\n",
       "    .dataframe thead th {\n",
       "        text-align: right;\n",
       "    }\n",
       "</style>\n",
       "<table border=\"1\" class=\"dataframe\">\n",
       "  <thead>\n",
       "    <tr style=\"text-align: right;\">\n",
       "      <th></th>\n",
       "      <th>Unnamed: 0</th>\n",
       "      <th>Town</th>\n",
       "      <th>Designation</th>\n",
       "      <th>Date</th>\n",
       "      <th>Land area</th>\n",
       "      <th>Population</th>\n",
       "      <th>Form of</th>\n",
       "      <th>County</th>\n",
       "      <th>Council of Governments</th>\n",
       "      <th>Native American</th>\n",
       "      <th>X</th>\n",
       "      <th>Y</th>\n",
       "    </tr>\n",
       "  </thead>\n",
       "  <tbody>\n",
       "    <tr>\n",
       "      <th>0</th>\n",
       "      <td>0</td>\n",
       "      <td>andover</td>\n",
       "      <td>Town</td>\n",
       "      <td>1848</td>\n",
       "      <td>15.46</td>\n",
       "      <td>3,303</td>\n",
       "      <td>Town meeting</td>\n",
       "      <td>Tolland County</td>\n",
       "      <td>Capitol Region</td>\n",
       "      <td>NaN</td>\n",
       "      <td>41.737321</td>\n",
       "      <td>-72.370360</td>\n",
       "    </tr>\n",
       "    <tr>\n",
       "      <th>1</th>\n",
       "      <td>1</td>\n",
       "      <td>ansonia</td>\n",
       "      <td>City</td>\n",
       "      <td>1889</td>\n",
       "      <td>6.03</td>\n",
       "      <td>19,249</td>\n",
       "      <td>Mayor-council</td>\n",
       "      <td>New Haven County</td>\n",
       "      <td>Naugatuck Valley</td>\n",
       "      <td>NaN</td>\n",
       "      <td>41.346208</td>\n",
       "      <td>-73.078997</td>\n",
       "    </tr>\n",
       "    <tr>\n",
       "      <th>2</th>\n",
       "      <td>2</td>\n",
       "      <td>ashford</td>\n",
       "      <td>Town</td>\n",
       "      <td>1714</td>\n",
       "      <td>38.79</td>\n",
       "      <td>4,100</td>\n",
       "      <td>Town meeting</td>\n",
       "      <td>Windham County</td>\n",
       "      <td>Northeast CT</td>\n",
       "      <td>NaN</td>\n",
       "      <td>41.873066</td>\n",
       "      <td>-72.121616</td>\n",
       "    </tr>\n",
       "  </tbody>\n",
       "</table>\n",
       "</div>"
      ],
      "text/plain": [
       "   Unnamed: 0     Town Designation  Date  Land area Population        Form of  \\\n",
       "0           0  andover        Town  1848      15.46      3,303   Town meeting   \n",
       "1           1  ansonia        City  1889       6.03     19,249  Mayor-council   \n",
       "2           2  ashford        Town  1714      38.79      4,100   Town meeting   \n",
       "\n",
       "             County Council of Governments Native American          X  \\\n",
       "0    Tolland County         Capitol Region             NaN  41.737321   \n",
       "1  New Haven County       Naugatuck Valley             NaN  41.346208   \n",
       "2    Windham County           Northeast CT             NaN  41.873066   \n",
       "\n",
       "           Y  \n",
       "0 -72.370360  \n",
       "1 -73.078997  \n",
       "2 -72.121616  "
      ]
     },
     "execution_count": 99,
     "metadata": {},
     "output_type": "execute_result"
    }
   ],
   "source": [
    "ctlist.head(3)"
   ]
  },
  {
   "cell_type": "markdown",
   "metadata": {},
   "source": [
    "以下、データの成形を行なっていく。\n",
    "\n",
    "Violationに関しては、カンマ区切りにされているviolationの種類をstr.splitで分割した上で、全てのviolationの種類をまとめたリストを作成する。このリストをカラム名とし、各indexについて対応するviolationの値を1とする。"
   ]
  },
  {
   "cell_type": "code",
   "execution_count": 100,
   "metadata": {},
   "outputs": [],
   "source": [
    "# violationの種類を検索\n",
    "df_violation = df[\"violation\"].str.split(',',expand=True)\n",
    "violation_list = np.array([])\n",
    "\n",
    "\"\"\"\n",
    "for i in range(0,4):\n",
    "    violation_list = np.append(violation_list,df_violation[0].unique())\n",
    "violation_list = np.unique(violation_list)\n",
    "\"\"\"\n",
    "\n",
    "violation_list = np.array(['Cell phone', 'Equipment', 'License', 'Lights', 'Moving violation',\n",
    "       'Other', 'Registration/plates', 'Safe movement', 'Seat belt',\n",
    "       'Speeding', 'Stop sign/light'], dtype=object)\n",
    "\n",
    "for list in violation_list:\n",
    "    df[\"violation_\"+list] = np.zeros(df.contraband_found.count())\n",
    "    for i in range(0,4):\n",
    "        df.loc[df_violation[i]==list,\"violation_\"+list]=1"
   ]
  },
  {
   "cell_type": "code",
   "execution_count": 101,
   "metadata": {},
   "outputs": [],
   "source": [
    "# stop_durationを数値に直す\n",
    "# 2回目以降の実行ではエラー\n",
    "df.loc[df[\"stop_duration\"]==\"1-15 min\",\"stop_duration\"]=0\n",
    "df.loc[df[\"stop_duration\"]==\"16-30 min\",\"stop_duration\"]=1\n",
    "df.loc[df[\"stop_duration\"]==\"30+ min\",\"stop_duration\"]=2\n",
    "\n",
    "# driver_genderを数値に直す\n",
    "# 2回目以降の実行ではエラー\n",
    "df.loc[df[\"driver_gender\"]==\"M\",\"driver_gender\"]=0\n",
    "df.loc[df[\"driver_gender\"]==\"F\",\"driver_gender\"]=1"
   ]
  },
  {
   "cell_type": "code",
   "execution_count": 102,
   "metadata": {},
   "outputs": [],
   "source": [
    "df['stop_time'] = pd.to_datetime(df['stop_time'])\n",
    "df['stop_date'] = pd.to_datetime(df['stop_date'])\n",
    "df[\"stop_weekday_name\"] = df[\"stop_date\"].dt.weekday_name\n",
    "df[\"stop_month\"] = df[\"stop_date\"].dt.month    \n",
    "df[\"stop_year\"] = df[\"stop_date\"].dt.year\n",
    "df[\"stop_hour\"] = df[\"stop_time\"].dt.hour\n",
    "df[\"stop_day\"] = df[\"stop_date\"].dt.day"
   ]
  },
  {
   "cell_type": "code",
   "execution_count": 103,
   "metadata": {},
   "outputs": [],
   "source": [
    "df[\"location_raw\"] = df[\"location_raw\"].fillna(\"N/A\")\n",
    "df[\"fine_grained_location\"] = df[\"fine_grained_location\"].fillna(\"N/A\")"
   ]
  },
  {
   "cell_type": "code",
   "execution_count": 104,
   "metadata": {},
   "outputs": [],
   "source": [
    "df[\"location_exit\"] = 0\n",
    "df.loc[df[\"fine_grained_location\"].str.contains(\"X\"),\"location_exit\"] = 1\n",
    "df.loc[df[\"fine_grained_location\"].str.contains(\"x\"),\"location_exit\"] = 1\n",
    "df.loc[df[\"fine_grained_location\"].str.contains(\"sex\"),\"location_exit\"] = 0\n",
    "\n",
    "df[\"location_route\"] = 0\n",
    "df.loc[df[\"fine_grained_location\"].str.contains(\"rt\"),\"location_route\"] = 1\n",
    "df.loc[df[\"fine_grained_location\"].str.contains(\"rte \"),\"location_route\"] = 1\n",
    "df.loc[df[\"fine_grained_location\"].str.contains(\"RT.\"),\"location_route\"] = 1\n",
    "df.loc[df[\"fine_grained_location\"].str.contains(\"RT \"),\"location_route\"] = 1\n",
    "df.loc[df[\"fine_grained_location\"].str.contains(\"rT \"),\"location_route\"] = 1\n",
    "df.loc[df[\"fine_grained_location\"].str.contains(\"Route\"),\"location_route\"] = 1\n",
    "df.loc[df[\"fine_grained_location\"].str.contains(\"Rte\"),\"location_route\"] = 1\n",
    "df.loc[df[\"fine_grained_location\"].str.contains(\"Rt\"),\"location_route\"] = 1\n",
    "\n",
    "df[\"location_00000\"] = 0\n",
    "df.loc[df[\"fine_grained_location\"].str.contains(\"000\"),\"location_00000\"] = 1"
   ]
  },
  {
   "cell_type": "code",
   "execution_count": 105,
   "metadata": {},
   "outputs": [],
   "source": [
    "df.loc[df[\"location_raw\"]==\"e lyme\",\"location_raw\"] = \"east lyme\"\n",
    "df.loc[df[\"location_raw\"]==\"e hartford\",\"location_raw\"] = \"east hartford\"\n",
    "df.loc[df[\"location_raw\"]==\"e granby\",\"location_raw\"] = \"east granby\"\n",
    "df.loc[df[\"location_raw\"]==\"no stonington\",\"location_raw\"] = \"north stonington\"\n",
    "df.loc[df[\"location_raw\"]==\"no canaan\",\"location_raw\"] = \"north canaan\"\n",
    "df.loc[df[\"location_raw\"]==\"no branford\",\"location_raw\"] = \"north branford\"\n",
    "df.loc[df[\"location_raw\"]==\"falls village\",\"location_raw\"] = \"canaan\" #CDP\n",
    "df.loc[df[\"location_raw\"]==\"ivoryton\",\"location_raw\"] = \"essex\" #CDP\n",
    "df.loc[df[\"location_raw\"]==\"sprague - baltic\",\"location_raw\"] = \"sprague\" #CDP \n",
    "df.loc[df[\"location_raw\"]==\"sprague - versailles\",\"location_raw\"] = \"sprague\" #? #\n",
    "df.loc[df[\"location_raw\"]==\"storrs\",\"location_raw\"] = \"mansfield\" # CDP\n",
    "df.loc[df[\"location_raw\"]==\"centerbrook\",\"location_raw\"] = \"essex\" #hamletって場所らしい\n",
    "df.loc[df[\"location_raw\"]==\"griwold\",\"location_raw\"] = \"griswold\"\n",
    "df.loc[df[\"location_raw\"]==\"uncasville\",\"location_raw\"] = \"montville\"\n",
    "df.loc[df[\"location_raw\"]==\"winsted\",\"location_raw\"] = \"litchfield\"\n",
    "df.loc[df[\"location_raw\"]==\"washighton\",\"location_raw\"] = \"washington\"\n",
    "df.loc[df[\"location_raw\"]==\"danielson\",\"location_raw\"] = \"killingly\"\n",
    "df.loc[df[\"location_raw\"]==\"t165\",\"location_raw\"] = \"windsor locks\"\n",
    "\n",
    "df.loc[(df[\"county_fips\"].isnull()) & (df[\"fine_grained_location\"].str.contains(\"T045\")),[\"location_raw\",\"county_name\",\"county_fips\"]] = [\"east lyme\",\"New London County\",\"9011.0\"]\n",
    "df.loc[(df[\"county_fips\"].isnull()) & (df[\"fine_grained_location\"].str.contains(\"t045\")),[\"location_raw\",\"county_name\",\"county_fips\"]] = [\"east lyme\",\"New London County\",\"9011.0\"]"
   ]
  },
  {
   "cell_type": "code",
   "execution_count": 106,
   "metadata": {},
   "outputs": [],
   "source": [
    "df = pd.get_dummies(df,columns=[\"stop_month\"], prefix='stop_month', prefix_sep='_')\n",
    "df = pd.get_dummies(df,columns=[\"stop_year\"], prefix='stop_year', prefix_sep='_')\n",
    "df = pd.get_dummies(df,columns=[\"stop_weekday_name\"], prefix='stop_day', prefix_sep='_')\n",
    "df = pd.get_dummies(df,columns=[\"stop_hour\"], prefix='stop_hour', prefix_sep='_')\n",
    "\n",
    "df = pd.get_dummies(df,columns=[\"driver_race\"],prefix='race',prefix_sep='_')\n",
    "\n",
    "df = pd.get_dummies(df,columns=[\"search_type\"], prefix='search', prefix_sep='_')\n",
    "\n",
    "df = pd.get_dummies(df,columns=[\"county_name\"], drop_first=True, prefix='county', prefix_sep='_')"
   ]
  },
  {
   "cell_type": "code",
   "execution_count": 107,
   "metadata": {},
   "outputs": [],
   "source": [
    "df = df.drop([\"stop_date\",\"stop_time\",\"search_type_raw\",\"search_conducted\",\"county_fips\"\n",
    "              ,\"driver_race_raw\",\"violation\",\"violation_raw\",\"state\"\n",
    "              ,\"police_department\",\"driver_age\"],axis=1)"
   ]
  },
  {
   "cell_type": "code",
   "execution_count": 108,
   "metadata": {},
   "outputs": [],
   "source": [
    "df[\"contraband_found\"] = df[\"contraband_found\"]*1"
   ]
  },
  {
   "cell_type": "code",
   "execution_count": 109,
   "metadata": {},
   "outputs": [],
   "source": [
    "ctlist[\"Population\"] = ctlist[\"Population\"].str.replace(',','').astype(np.int)"
   ]
  },
  {
   "cell_type": "code",
   "execution_count": 110,
   "metadata": {},
   "outputs": [],
   "source": [
    "df.loc[df[\"location_raw\"].isnull(),\"location_raw\"]=\"N/A\""
   ]
  },
  {
   "cell_type": "code",
   "execution_count": 111,
   "metadata": {},
   "outputs": [],
   "source": [
    "population_dict = dict(zip(ctlist['Town'], ctlist['Population']))\n",
    "area_dict = dict(zip(ctlist['Town'], ctlist['Land area']))\n",
    "X_dict = dict(zip(ctlist['Town'], ctlist['X']))\n",
    "Y_dict = dict(zip(ctlist['Town'], ctlist['Y']))\n",
    "population_dict.update({\"N/A\":ctlist[\"Population\"].mean()})\n",
    "area_dict.update({\"N/A\":ctlist[\"Land area\"].mean()})\n",
    "X_dict.update({\"N/A\":ctlist[\"X\"].mean()})\n",
    "Y_dict.update({\"N/A\":ctlist[\"Y\"].mean()})"
   ]
  },
  {
   "cell_type": "code",
   "execution_count": 112,
   "metadata": {},
   "outputs": [],
   "source": [
    "df[\"population\"] = df[\"location_raw\"].replace(population_dict).astype(np.int)\n",
    "df[\"area\"] = df[\"location_raw\"].replace(area_dict).astype(np.float)\n",
    "df[\"X\"] = df[\"location_raw\"].replace(X_dict).astype(np.float)\n",
    "df[\"Y\"] = df[\"location_raw\"].replace(Y_dict).astype(np.float)"
   ]
  },
  {
   "cell_type": "code",
   "execution_count": 113,
   "metadata": {},
   "outputs": [],
   "source": [
    "df[\"location_raw\"].unique()\n",
    "location_list = np.array(['columbia', 'sherman', 'colchester', 'west haven', 'haddam',\n",
    "       'mansfield', 'stonington', 'marlborough', 'griswold', 'milford',\n",
    "       'norwalk', 'bridgewater', 'tolland', 'deep river', 'union',\n",
    "       'roxbury', 'cornwall', 'woodbridge', 'shelton', 'brooklyn',\n",
    "       'danbury', 'wallingford', 'groton', 'litchfield', 'oxford',\n",
    "       'naugatuck', 'new london', 'brookfield', 'plainfield', 'scotland',\n",
    "       'wethersfield', 'north haven', 'middletown', 'north canaan',\n",
    "       'trumbull', 'bethel', 'westbrook', 'killingly', 'lisbon',\n",
    "       'bridgeport', 'somers', 'old saybrook', 'east granby', 'vernon',\n",
    "       'winchester', 'burlington', 'east hartford', 'ellington', 'kent',\n",
    "       'new milford', 'hartford', 'morris', 'willington', 'middlebury',\n",
    "       'north stonington', 'chester', 'middlefield', 'stafford',\n",
    "       'westport', 'old lyme', 'thompson', 'goshen', 'manchester',\n",
    "       'windsor', 'stamford', 'farmington', 'essex', 'east haddam',\n",
    "       'stratford', 'colebrook', 'waterbury', 'greenwich', 'harwinton',\n",
    "       'guilford', 'beacon falls', 'madison', 'watertown', 'waterford',\n",
    "       'lebanon', 'windsor locks', 'new canaan', 'franklin', 'salisbury',\n",
    "       'fairfield', 'preston', 'new haven', 'putnam', 'andover',\n",
    "       'woodbury', 'salem', 'ashford', 'enfield', 'clinton', 'cromwell',\n",
    "       'bolton', 'southbury', 'newtown', 'durham', 'ansonia', 'montville',\n",
    "       'washington', 'branford', 'east lyme', 'norwich', 'new hartford',\n",
    "       'thomaston', 'hamden', 'canaan', 'darien', 'hebron', 'pomfret',\n",
    "       'voluntown', 'derby', 'ledyard', 'new fairfield', 'eastford',\n",
    "       'new britain', 'meriden', 'west hartford', 'bristol', 'windham',\n",
    "       'berlin', 'rocky hill', 'monroe', 'glastonbury', 'killingworth',\n",
    "       'orange', 'torrington', 'east windsor', 'southington', 'bozrah',\n",
    "       'seymour', 'bethany', 'barkhamsted', 'cheshire', 'east haven',\n",
    "       'norfolk', 'east hampton', 'sharon', 'sterling', 'north branford',\n",
    "       'plainville', 'hampton', 'avon', 'sprague', 'woodstock', 'chaplin',\n",
    "       'coventry', 'prospect', 'south windsor', 'canton', 'canterbury',\n",
    "       'newington', 'bethlehem', 'portland', 'hartland', 'warren', 'lyme',\n",
    "       'easton', 'plymouth', 'bloomfield', 'ridgefield', 'suffield',\n",
    "       'wolcott', 'simsbury', 'granby','wilton','orange'],\n",
    "      dtype=object)"
   ]
  },
  {
   "cell_type": "code",
   "execution_count": 82,
   "metadata": {},
   "outputs": [],
   "source": [
    "df[\"officer_id\"].unique()[df[\"officer_id\"].value_counts()>50]\n",
    "officer_list = np.array(['55887736', '770626977', '1000002961', '1000002376', '70583331',\n",
    "       '1000002714', '1000003026', '1000002219', '298463910',\n",
    "       '1000002220', '1000003191'],\n",
    "      dtype=object)"
   ]
  },
  {
   "cell_type": "code",
   "execution_count": 114,
   "metadata": {},
   "outputs": [
    {
     "name": "stdout",
     "output_type": "stream",
     "text": [
      "CPU times: user 5.56 s, sys: 5.43 s, total: 11 s\n",
      "Wall time: 11 s\n"
     ]
    }
   ],
   "source": [
    "%%time\n",
    "for list in location_list:\n",
    "    df[\"location_\"+list] = np.zeros(df.contraband_found.count())\n",
    "    df.loc[df[\"location_raw\"]==list,\"location_\"+list]=1"
   ]
  },
  {
   "cell_type": "code",
   "execution_count": 84,
   "metadata": {},
   "outputs": [
    {
     "name": "stdout",
     "output_type": "stream",
     "text": [
      "CPU times: user 13.6 s, sys: 1.74 s, total: 15.4 s\n",
      "Wall time: 1.93 s\n"
     ]
    }
   ],
   "source": [
    "%%time\n",
    "for list in officer_list:\n",
    "    df[\"officer_\"+str(list)] = np.zeros(df.contraband_found.count())\n",
    "    df.loc[df[\"location_raw\"]==str(list),\"officer_\"+str(list)]=1"
   ]
  },
  {
   "cell_type": "code",
   "execution_count": 115,
   "metadata": {},
   "outputs": [],
   "source": [
    "df[\"location_I84\"] = 0\n",
    "df.loc[(df[\"fine_grained_location\"].str.contains(\"84\")),\"location_I84\"] = 1\n",
    "\n",
    "df[\"location_I91\"] = 0\n",
    "df.loc[(df[\"fine_grained_location\"].str.contains(\"91\")) & ~(df[\"fine_grained_location\"].str.contains(\"T091\")),\"location_I91\"] = 1\n",
    "\n",
    "df[\"location_I95\"] = 0\n",
    "df.loc[(df[\"fine_grained_location\"].str.contains(\"95\")) & ~(df[\"fine_grained_location\"].str.contains(\"T095\")),\"location_I95\"] = 1\n",
    "\n",
    "df[\"location_I395\"] = 0\n",
    "df.loc[(df[\"fine_grained_location\"].str.contains(\"395\")) & ~(df[\"fine_grained_location\"].str.contains(\"T395\")),\"location_I395\"] = 1"
   ]
  },
  {
   "cell_type": "code",
   "execution_count": 116,
   "metadata": {},
   "outputs": [],
   "source": [
    "df = df.drop([\"fine_grained_location\",\"location_raw\",\"officer_id\"],axis=1)"
   ]
  },
  {
   "cell_type": "code",
   "execution_count": 117,
   "metadata": {},
   "outputs": [
    {
     "name": "stdout",
     "output_type": "stream",
     "text": [
      "<class 'pandas.core.frame.DataFrame'>\n",
      "RangeIndex: 93994 entries, 0 to 93993\n",
      "Columns: 255 entries, driver_gender to location_I395\n",
      "dtypes: float64(181), int64(13), uint8(61)\n",
      "memory usage: 144.6 MB\n"
     ]
    }
   ],
   "source": [
    "df.info()"
   ]
  },
  {
   "cell_type": "code",
   "execution_count": 118,
   "metadata": {},
   "outputs": [],
   "source": [
    "df.to_csv('test_clean_06150000.csv',sep=',',index=False)"
   ]
  },
  {
   "cell_type": "code",
   "execution_count": null,
   "metadata": {},
   "outputs": [],
   "source": []
  }
 ],
 "metadata": {
  "kernelspec": {
   "display_name": "Python 3",
   "language": "python",
   "name": "python3"
  },
  "language_info": {
   "codemirror_mode": {
    "name": "ipython",
    "version": 3
   },
   "file_extension": ".py",
   "mimetype": "text/x-python",
   "name": "python",
   "nbconvert_exporter": "python",
   "pygments_lexer": "ipython3",
   "version": "3.6.4"
  }
 },
 "nbformat": 4,
 "nbformat_minor": 2
}
