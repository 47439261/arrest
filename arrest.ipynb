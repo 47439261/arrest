{
 "cells": [
  {
   "cell_type": "markdown",
   "metadata": {},
   "source": [
    "## データについて\n",
    "各カラムの意味は以下の通りです.\n",
    "<table>\n",
    "  <thead>\n",
    "  <tr>\n",
    "    <td>.csvファイル</td>\n",
    "    <td>学習モデル</td>\n",
    "    <td>CVスコア</td>\n",
    "    <td>暫定スコア</td>\n",
    "    <td>備考</td>     \n",
    "  </tr>\n",
    "  </thead>\n",
    "  <tr>\n",
    "    <td>submission06102200.csv</td>\n",
    "    <td>LR only</td> \n",
    "    <td>0.87363</td>\n",
    "    <td>0.86669</td>\n",
    "    <td>officer_idは100000のみ</td>\n",
    "  </tr>\n",
    "  <tr>\n",
    "    <td>submission06111044.csv</td>\n",
    "    <td>{LR & RF(n=100)}/2</td> \n",
    "    <td>0.87809</td>\n",
    "    <td>0.?????</td>\n",
    "    <td>同上</td>\n",
    "  </tr>\n",
    "  <tr>\n",
    "    <td>submission06111100.csv</td>\n",
    "    <td>{LR & RF(n=100)}/2</td> \n",
    "    <td>0.88333</td>\n",
    "    <td>0.?????</td>\n",
    "    <td>stop_hourを修正</td>\n",
    "  </tr> \n",
    "  <tr>\n",
    "    <td>なし</td>\n",
    "    <td>XGB(深さ5)</td> \n",
    "    <td>0.88728</td>\n",
    "    <td>0.?????</td>\n",
    "    <td></td>\n",
    "  </tr>  \n",
    "  <tr>\n",
    "    <td>なし</td>\n",
    "    <td>XGB(深さ4,n_est=200)</td> \n",
    "    <td>0.88848</td>\n",
    "    <td>0.?????</td>\n",
    "    <td></td>\n",
    "  </tr>   \n",
    "  <tr>\n",
    "    <td>なし</td>\n",
    "    <td>XGB(深さ5)とLRを10:1</td> \n",
    "    <td>0.88766</td>\n",
    "    <td>0.?????</td>\n",
    "    <td></td>\n",
    "  </tr>  \n",
    "  <tr>\n",
    "    <td>なし</td>\n",
    "    <td>XGB(深さ4)</td> \n",
    "    <td>0.86897</td>\n",
    "    <td>0.?????</td>\n",
    "    <td>officer_idを追加した</td>\n",
    "  </tr>  \n",
    "  <tr>\n",
    "    <td>submission_06111430.csv</td>\n",
    "    <td>XGB(確か4と400)</td> \n",
    "    <td>0.?????</td>\n",
    "    <td>0.?????</td>\n",
    "    <td>nyx1で実行</td>\n",
    "  </tr>   \n",
    "  <tr>\n",
    "    <td>submission_06111430.csv</td>\n",
    "    <td>XGB&LR&RF</td> \n",
    "    <td>0.88907</td>\n",
    "    <td>0.?????</td>\n",
    "    <td>nyx1で実行</td>\n",
    "  </tr>     \n",
    "</table>\n"
   ]
  },
  {
   "cell_type": "code",
   "execution_count": 9,
   "metadata": {},
   "outputs": [],
   "source": [
    "import pandas as pd\n",
    "import numpy as np\n",
    "import matplotlib.pylab as plt\n",
    "from datetime import datetime\n",
    "\n",
    "import xgboost as xgb\n",
    "from sklearn.model_selection import train_test_split\n",
    "from sklearn.ensemble import RandomForestClassifier\n",
    "#m = xgb.XGBRegressor()\n",
    "from sklearn.metrics import roc_auc_score\n",
    "from sklearn.linear_model import LogisticRegression\n",
    "from sklearn.neural_network import MLPClassifier\n",
    "from sklearn.preprocessing import PolynomialFeatures"
   ]
  },
  {
   "cell_type": "code",
   "execution_count": 2,
   "metadata": {},
   "outputs": [],
   "source": [
    "df = pd.read_csv(\"train_clean_06130930.csv\")\n",
    "df_test = pd.read_csv(\"test_clean_06130930.csv\")"
   ]
  },
  {
   "cell_type": "code",
   "execution_count": 28,
   "metadata": {},
   "outputs": [],
   "source": [
    "df = pd.read_csv(\"train_clean_06111230.csv\")\n",
    "df_test = pd.read_csv(\"test_clean_06111230.csv\")"
   ]
  },
  {
   "cell_type": "code",
   "execution_count": 10,
   "metadata": {},
   "outputs": [],
   "source": [
    "df = pd.read_csv(\"train_clean_06131000.csv\")\n",
    "df_test = pd.read_csv(\"test_clean_06131000.csv\")"
   ]
  },
  {
   "cell_type": "code",
   "execution_count": 13,
   "metadata": {},
   "outputs": [
    {
     "name": "stderr",
     "output_type": "stream",
     "text": [
      "/Users/KojiMinoda/.pyenv/versions/anaconda3-4.3.1/lib/python3.6/site-packages/sklearn/model_selection/_split.py:2026: FutureWarning: From version 0.21, test_size will always complement train_size unless both are specified.\n",
      "  FutureWarning)\n"
     ]
    }
   ],
   "source": [
    "X = df.drop([\"is_arrested\"],axis=1)\n",
    "y = df[\"is_arrested\"]\n",
    "X_train, X_test, y_train, y_test = train_test_split(X, y, train_size=0.8)"
   ]
  },
  {
   "cell_type": "code",
   "execution_count": 4,
   "metadata": {},
   "outputs": [
    {
     "ename": "ValueError",
     "evalue": "Input contains NaN, infinity or a value too large for dtype('float32').",
     "output_type": "error",
     "traceback": [
      "\u001b[0;31m---------------------------------------------------------------------------\u001b[0m",
      "\u001b[0;31mValueError\u001b[0m                                Traceback (most recent call last)",
      "\u001b[0;32m<ipython-input-4-2799cb0d05d6>\u001b[0m in \u001b[0;36m<module>\u001b[0;34m()\u001b[0m\n\u001b[1;32m      1\u001b[0m \u001b[0mforest\u001b[0m \u001b[0;34m=\u001b[0m \u001b[0mRandomForestClassifier\u001b[0m\u001b[0;34m(\u001b[0m\u001b[0mn_estimators\u001b[0m\u001b[0;34m=\u001b[0m\u001b[0;36m600\u001b[0m\u001b[0;34m,\u001b[0m\u001b[0mclass_weight\u001b[0m\u001b[0;34m=\u001b[0m\u001b[0;34m\"balanced\"\u001b[0m\u001b[0;34m)\u001b[0m\u001b[0;34m\u001b[0m\u001b[0m\n\u001b[0;32m----> 2\u001b[0;31m \u001b[0mforest\u001b[0m\u001b[0;34m.\u001b[0m\u001b[0mfit\u001b[0m\u001b[0;34m(\u001b[0m\u001b[0mX_train\u001b[0m\u001b[0;34m,\u001b[0m\u001b[0my_train\u001b[0m\u001b[0;34m)\u001b[0m\u001b[0;34m\u001b[0m\u001b[0m\n\u001b[0m\u001b[1;32m      3\u001b[0m \u001b[0my_predict_forest\u001b[0m \u001b[0;34m=\u001b[0m \u001b[0mforest\u001b[0m\u001b[0;34m.\u001b[0m\u001b[0mpredict_proba\u001b[0m\u001b[0;34m(\u001b[0m\u001b[0mX_test\u001b[0m\u001b[0;34m)\u001b[0m\u001b[0;34m[\u001b[0m\u001b[0;34m:\u001b[0m\u001b[0;34m,\u001b[0m\u001b[0;36m1\u001b[0m\u001b[0;34m]\u001b[0m\u001b[0;34m\u001b[0m\u001b[0m\n\u001b[1;32m      4\u001b[0m \u001b[0mroc_auc_score\u001b[0m\u001b[0;34m(\u001b[0m\u001b[0my_test\u001b[0m\u001b[0;34m.\u001b[0m\u001b[0mvalues\u001b[0m\u001b[0;34m,\u001b[0m\u001b[0my_predict_forest\u001b[0m\u001b[0;34m)\u001b[0m\u001b[0;34m\u001b[0m\u001b[0m\n",
      "\u001b[0;32m~/.pyenv/versions/anaconda3-4.3.1/lib/python3.6/site-packages/sklearn/ensemble/forest.py\u001b[0m in \u001b[0;36mfit\u001b[0;34m(self, X, y, sample_weight)\u001b[0m\n\u001b[1;32m    245\u001b[0m         \"\"\"\n\u001b[1;32m    246\u001b[0m         \u001b[0;31m# Validate or convert input data\u001b[0m\u001b[0;34m\u001b[0m\u001b[0;34m\u001b[0m\u001b[0m\n\u001b[0;32m--> 247\u001b[0;31m         \u001b[0mX\u001b[0m \u001b[0;34m=\u001b[0m \u001b[0mcheck_array\u001b[0m\u001b[0;34m(\u001b[0m\u001b[0mX\u001b[0m\u001b[0;34m,\u001b[0m \u001b[0maccept_sparse\u001b[0m\u001b[0;34m=\u001b[0m\u001b[0;34m\"csc\"\u001b[0m\u001b[0;34m,\u001b[0m \u001b[0mdtype\u001b[0m\u001b[0;34m=\u001b[0m\u001b[0mDTYPE\u001b[0m\u001b[0;34m)\u001b[0m\u001b[0;34m\u001b[0m\u001b[0m\n\u001b[0m\u001b[1;32m    248\u001b[0m         \u001b[0my\u001b[0m \u001b[0;34m=\u001b[0m \u001b[0mcheck_array\u001b[0m\u001b[0;34m(\u001b[0m\u001b[0my\u001b[0m\u001b[0;34m,\u001b[0m \u001b[0maccept_sparse\u001b[0m\u001b[0;34m=\u001b[0m\u001b[0;34m'csc'\u001b[0m\u001b[0;34m,\u001b[0m \u001b[0mensure_2d\u001b[0m\u001b[0;34m=\u001b[0m\u001b[0;32mFalse\u001b[0m\u001b[0;34m,\u001b[0m \u001b[0mdtype\u001b[0m\u001b[0;34m=\u001b[0m\u001b[0;32mNone\u001b[0m\u001b[0;34m)\u001b[0m\u001b[0;34m\u001b[0m\u001b[0m\n\u001b[1;32m    249\u001b[0m         \u001b[0;32mif\u001b[0m \u001b[0msample_weight\u001b[0m \u001b[0;32mis\u001b[0m \u001b[0;32mnot\u001b[0m \u001b[0;32mNone\u001b[0m\u001b[0;34m:\u001b[0m\u001b[0;34m\u001b[0m\u001b[0m\n",
      "\u001b[0;32m~/.pyenv/versions/anaconda3-4.3.1/lib/python3.6/site-packages/sklearn/utils/validation.py\u001b[0m in \u001b[0;36mcheck_array\u001b[0;34m(array, accept_sparse, dtype, order, copy, force_all_finite, ensure_2d, allow_nd, ensure_min_samples, ensure_min_features, warn_on_dtype, estimator)\u001b[0m\n\u001b[1;32m    451\u001b[0m                              % (array.ndim, estimator_name))\n\u001b[1;32m    452\u001b[0m         \u001b[0;32mif\u001b[0m \u001b[0mforce_all_finite\u001b[0m\u001b[0;34m:\u001b[0m\u001b[0;34m\u001b[0m\u001b[0m\n\u001b[0;32m--> 453\u001b[0;31m             \u001b[0m_assert_all_finite\u001b[0m\u001b[0;34m(\u001b[0m\u001b[0marray\u001b[0m\u001b[0;34m)\u001b[0m\u001b[0;34m\u001b[0m\u001b[0m\n\u001b[0m\u001b[1;32m    454\u001b[0m \u001b[0;34m\u001b[0m\u001b[0m\n\u001b[1;32m    455\u001b[0m     \u001b[0mshape_repr\u001b[0m \u001b[0;34m=\u001b[0m \u001b[0m_shape_repr\u001b[0m\u001b[0;34m(\u001b[0m\u001b[0marray\u001b[0m\u001b[0;34m.\u001b[0m\u001b[0mshape\u001b[0m\u001b[0;34m)\u001b[0m\u001b[0;34m\u001b[0m\u001b[0m\n",
      "\u001b[0;32m~/.pyenv/versions/anaconda3-4.3.1/lib/python3.6/site-packages/sklearn/utils/validation.py\u001b[0m in \u001b[0;36m_assert_all_finite\u001b[0;34m(X)\u001b[0m\n\u001b[1;32m     42\u001b[0m             and not np.isfinite(X).all()):\n\u001b[1;32m     43\u001b[0m         raise ValueError(\"Input contains NaN, infinity\"\n\u001b[0;32m---> 44\u001b[0;31m                          \" or a value too large for %r.\" % X.dtype)\n\u001b[0m\u001b[1;32m     45\u001b[0m \u001b[0;34m\u001b[0m\u001b[0m\n\u001b[1;32m     46\u001b[0m \u001b[0;34m\u001b[0m\u001b[0m\n",
      "\u001b[0;31mValueError\u001b[0m: Input contains NaN, infinity or a value too large for dtype('float32')."
     ]
    }
   ],
   "source": [
    "forest = RandomForestClassifier(n_estimators=600,class_weight=\"balanced\")\n",
    "forest.fit(X_train,y_train)\n",
    "y_predict_forest = forest.predict_proba(X_test)[:,1]\n",
    "roc_auc_score(y_test.values,y_predict_forest)"
   ]
  },
  {
   "cell_type": "code",
   "execution_count": 15,
   "metadata": {},
   "outputs": [
    {
     "name": "stdout",
     "output_type": "stream",
     "text": [
      "train data score: 0.9025331559891716\n",
      "cross validation score: 0.8835994083206202\n",
      "CPU times: user 12min 49s, sys: 7.08 s, total: 12min 56s\n",
      "Wall time: 13min 1s\n"
     ]
    }
   ],
   "source": [
    "%%time\n",
    "xgbc = xgb.XGBClassifier(max_depth=4,n_estimators=200)\n",
    "xgbc.fit(X_train,y_train)\n",
    "y_predict_xgb = xgbc.predict_proba(X_test)[:,1]\n",
    "y_train_predict_xgb = xgbc.predict_proba(X_train)[:,1]\n",
    "print(\"train data score:\",roc_auc_score(y_train.values,y_train_predict_xgb))\n",
    "print(\"cross validation score:\",roc_auc_score(y_test.values,y_predict_xgb))"
   ]
  },
  {
   "cell_type": "code",
   "execution_count": 14,
   "metadata": {},
   "outputs": [
    {
     "name": "stdout",
     "output_type": "stream",
     "text": [
      "train data score: 0.8903891470401686\n",
      "cross validation score: 0.8826770732964917\n",
      "CPU times: user 6min 31s, sys: 6.58 s, total: 6min 38s\n",
      "Wall time: 6min 37s\n"
     ]
    }
   ],
   "source": [
    "%%time\n",
    "xgbc = xgb.XGBClassifier(max_depth=4,n_estimators=100)\n",
    "xgbc.fit(X_train,y_train)\n",
    "y_predict_xgb = xgbc.predict_proba(X_test)[:,1]\n",
    "y_train_predict_xgb = xgbc.predict_proba(X_train)[:,1]\n",
    "print(\"train data score:\",roc_auc_score(y_train.values,y_train_predict_xgb))\n",
    "print(\"cross validation score:\",roc_auc_score(y_test.values,y_predict_xgb))"
   ]
  },
  {
   "cell_type": "code",
   "execution_count": null,
   "metadata": {},
   "outputs": [],
   "source": [
    "%%time\n",
    "xgbc = xgb.XGBClassifier(max_depth=5,n_estimators=100)\n",
    "xgbc.fit(X_train,y_train)\n",
    "y_predict_xgb = xgbc.predict_proba(X_test)[:,1]\n",
    "y_train_predict_xgb = xgbc.predict_proba(X_train)[:,1]\n",
    "print(\"train data score:\",roc_auc_score(y_train.values,y_train_predict_xgb))\n",
    "print(\"cross validation score:\",roc_auc_score(y_test.values,y_predict_xgb))"
   ]
  },
  {
   "cell_type": "markdown",
   "metadata": {},
   "source": [
    "<table class=\"table2\">\n",
    "    <caption>06121820</caption>\n",
    "  <tr><th></th><th>3</th><th>4</th><th>5</th><th>6</th></tr>\n",
    "  <tr><td>100</td><td>???,???</td><td>??? / ???</td><td>0.8990 / 0.8768</td><td>???,???</td></tr>\n",
    "  <tr><td>200</td><td>???,???</td><td>??? / </td><td>???,???</td><td>???,???</td></tr>\n",
    "  <tr><td>300</td><td>???,???</td><td>??? / >???</td><td>???,???</td><td>???,???</td></tr>\n",
    "    <tr><td>500</td><td>???? / ????</td><td>0.9181 / 0.8734</td><td>?? / ???</td><td>???,???</td></tr>\n",
    "  <tr><td>700</td><td>0.9054 / 0.8726</td><td>???? / ????</td><td>??? / ???</td><td>???,???</td>\n",
    "</table>\n",
    "\n",
    "\n",
    "<table class=\"table2\">\n",
    "    <caption>06111230</caption>\n",
    "  <tr><th></th><th>3</th><th>4</th><th>5</th><th>6</th></tr>\n",
    "  <tr><td>100</td><td>???,???</td><td>0.8903 / 0.8768</td><td>??? / 0.8872?</td><td>???,???</td></tr>\n",
    "  <tr><td>200</td><td>???,???</td><td>??? / </td><td>???,???</td><td>???,???</td></tr>\n",
    "  <tr><td>300</td><td>???,???</td><td>0.9093 / 0.8793</td><td>???,???</td><td>???,???</td></tr>\n",
    "    <tr><td>500</td><td>0.9004,0.8791</td><td>0.9184 / 0.8811</td><td>0.9376 / 0.8699</td><td>???,???</td></tr>\n",
    "  <tr><td>700</td><td>???,???</td><td>0.9272 / 0.8809</td><td>??? / ???</td><td>???,???</td>\n",
    "</table>"
   ]
  },
  {
   "cell_type": "code",
   "execution_count": 11,
   "metadata": {},
   "outputs": [
    {
     "name": "stdout",
     "output_type": "stream",
     "text": [
      "train data score: 0.8789702389514487\n",
      "cross validation score: 0.8734070340927917\n",
      "CPU times: user 2.48 s, sys: 659 ms, total: 3.14 s\n",
      "Wall time: 2.94 s\n"
     ]
    }
   ],
   "source": [
    "%%time\n",
    "lr = LogisticRegression(class_weight=\"balanced\",C=0.01)\n",
    "lr.fit(X_train,y_train)\n",
    "y_predict_lr = lr.predict_proba(X_test)[:,1]\n",
    "y_train_predict_lr = lr.predict_proba(X_train)[:,1]\n",
    "print(\"train data score:\",roc_auc_score(y_train.values,y_train_predict_lr))\n",
    "print(\"cross validation score:\",roc_auc_score(y_test.values,y_predict_lr))"
   ]
  },
  {
   "cell_type": "code",
   "execution_count": 14,
   "metadata": {},
   "outputs": [
    {
     "name": "stdout",
     "output_type": "stream",
     "text": [
      "train data score: 0.8825157026294327\n",
      "cross validation score: 0.8728587660207082\n",
      "CPU times: user 27.2 s, sys: 3.91 s, total: 31.1 s\n",
      "Wall time: 17.4 s\n"
     ]
    }
   ],
   "source": [
    "%%time\n",
    "mlp = MLPClassifier(alpha=1e-2,hidden_layer_sizes=6, random_state=1)\n",
    "mlp.fit(X_train,y_train)\n",
    "y_predict_mlp = mlp.predict_proba(X_test)[:,1]\n",
    "y_train_predict_mlp = mlp.predict_proba(X_train)[:,1]\n",
    "print(\"train data score:\",roc_auc_score(y_train.values,y_train_predict_mlp))\n",
    "print(\"cross validation score:\",roc_auc_score(y_test.values,y_predict_mlp))"
   ]
  },
  {
   "cell_type": "markdown",
   "metadata": {},
   "source": [
    "<table>\n",
    "  <caption>clean_06121840</caption>\n",
    "  <thead>\n",
    "  <tr>\n",
    "    <td>あるふぁ</td>\n",
    "    <td>隠れ層サイズ</td>\n",
    "    <td>train data score</td>  \n",
    "    <td>cross validation score</td>       \n",
    "  </tr>\n",
    "  </thead>\n",
    "  <tr>\n",
    "    <td>1e-2</td>\n",
    "    <td>10</td> \n",
    "    <td>0.8877</td>\n",
    "    <td>0.8893</td>\n",
    "  </tr>\n",
    "  <tr>\n",
    "    <td>1e-2</td>\n",
    "    <td>6</td> \n",
    "    <td>0.8887</td>\n",
    "    <td>0.8825</td>\n",
    "  </tr> \n",
    "</table>\n",
    "<table>\n",
    "  <caption>clean_06111230</caption>\n",
    "  <thead>\n",
    "  <tr>\n",
    "    <td>あるふぁ</td>\n",
    "    <td>隠れ層サイズ</td>\n",
    "    <td>train data score</td>  \n",
    "    <td>cross validation score</td>       \n",
    "  </tr>\n",
    "  </thead>\n",
    "  <tr>\n",
    "    <td>1e-5</td>\n",
    "    <td>50</td> \n",
    "    <td>0.96</td>\n",
    "    <td>0.82</td>\n",
    "  </tr> \n",
    "  <tr>\n",
    "    <td>1e-5</td>\n",
    "    <td>30</td> \n",
    "    <td>0.946</td>\n",
    "    <td>0.8284</td>\n",
    "  </tr>    \n",
    "  <tr>\n",
    "    <td>1e-5</td>\n",
    "    <td>20</td> \n",
    "    <td>0.9258</td>\n",
    "    <td>0.8543</td>\n",
    "  </tr>   \n",
    "  <tr>\n",
    "    <td>1e-5</td>\n",
    "    <td>10</td> \n",
    "    <td>0.9072</td>\n",
    "    <td>0.8718</td>\n",
    "  </tr> \n",
    "  <tr>\n",
    "    <td>1e-5</td>\n",
    "    <td>6</td> \n",
    "    <td>0.8934</td>\n",
    "    <td>0.8802</td>\n",
    "  </tr>   \n",
    "  <tr>\n",
    "    <td>1e-3</td>\n",
    "    <td>6</td> \n",
    "    <td>0.8923</td>\n",
    "    <td>0.8828</td>\n",
    "  </tr>\n",
    "  <tr>\n",
    "    <td>1e-2</td>\n",
    "    <td>6</td> \n",
    "    <td>0.8910</td>\n",
    "    <td>0.8834</td>\n",
    "  </tr>   \n",
    "  <tr>\n",
    "    <td>1e-5</td>\n",
    "    <td>3</td> \n",
    "    <td>0.8747</td>\n",
    "    <td>0.8612</td>\n",
    "  </tr>   \n",
    "</table>"
   ]
  },
  {
   "cell_type": "code",
   "execution_count": 27,
   "metadata": {},
   "outputs": [
    {
     "ename": "NameError",
     "evalue": "name 'y_predict_forest' is not defined",
     "output_type": "error",
     "traceback": [
      "\u001b[0;31m---------------------------------------------------------------------------\u001b[0m",
      "\u001b[0;31mNameError\u001b[0m                                 Traceback (most recent call last)",
      "\u001b[0;32m<ipython-input-27-9b5c1ad7079d>\u001b[0m in \u001b[0;36m<module>\u001b[0;34m()\u001b[0m\n\u001b[1;32m      1\u001b[0m \u001b[0mrate\u001b[0m \u001b[0;34m=\u001b[0m \u001b[0mnp\u001b[0m\u001b[0;34m.\u001b[0m\u001b[0marray\u001b[0m\u001b[0;34m(\u001b[0m\u001b[0;34m[\u001b[0m\u001b[0;36m0\u001b[0m\u001b[0;34m,\u001b[0m\u001b[0;36m0.\u001b[0m\u001b[0;34m,\u001b[0m\u001b[0;36m35\u001b[0m\u001b[0;34m,\u001b[0m\u001b[0;36m0\u001b[0m\u001b[0;34m]\u001b[0m\u001b[0;34m)\u001b[0m\u001b[0;34m\u001b[0m\u001b[0m\n\u001b[0;32m----> 2\u001b[0;31m \u001b[0mroc_auc_score\u001b[0m\u001b[0;34m(\u001b[0m\u001b[0my_test\u001b[0m\u001b[0;34m.\u001b[0m\u001b[0mvalues\u001b[0m\u001b[0;34m,\u001b[0m\u001b[0mnp\u001b[0m\u001b[0;34m.\u001b[0m\u001b[0mdot\u001b[0m\u001b[0;34m(\u001b[0m\u001b[0mrate\u001b[0m\u001b[0;34m,\u001b[0m\u001b[0mnp\u001b[0m\u001b[0;34m.\u001b[0m\u001b[0marray\u001b[0m\u001b[0;34m(\u001b[0m\u001b[0;34m[\u001b[0m\u001b[0my_predict_forest\u001b[0m\u001b[0;34m,\u001b[0m\u001b[0my_predict_lr\u001b[0m\u001b[0;34m,\u001b[0m\u001b[0my_predict_xgb\u001b[0m\u001b[0;34m,\u001b[0m\u001b[0my_predict_mlp\u001b[0m\u001b[0;34m]\u001b[0m\u001b[0;34m)\u001b[0m\u001b[0;34m)\u001b[0m\u001b[0;34m/\u001b[0m\u001b[0mnp\u001b[0m\u001b[0;34m.\u001b[0m\u001b[0msum\u001b[0m\u001b[0;34m(\u001b[0m\u001b[0mrate\u001b[0m\u001b[0;34m)\u001b[0m\u001b[0;34m)\u001b[0m\u001b[0;34m\u001b[0m\u001b[0m\n\u001b[0m",
      "\u001b[0;31mNameError\u001b[0m: name 'y_predict_forest' is not defined"
     ]
    }
   ],
   "source": [
    "rate = np.array([0,0.,35,0])\n",
    "roc_auc_score(y_test.values,np.dot(rate,np.array([y_predict_forest,y_predict_lr,y_predict_xgb,y_predict_mlp]))/np.sum(rate))"
   ]
  },
  {
   "cell_type": "code",
   "execution_count": 66,
   "metadata": {},
   "outputs": [
    {
     "data": {
      "text/plain": [
       "0.0"
      ]
     },
     "execution_count": 66,
     "metadata": {},
     "output_type": "execute_result"
    }
   ],
   "source": [
    "roc_auc_score([0,0,0,1],[0.8,0.8,0.7,0.6])*1000000000000"
   ]
  },
  {
   "cell_type": "code",
   "execution_count": 51,
   "metadata": {},
   "outputs": [],
   "source": [
    "X_final_test = df_test"
   ]
  },
  {
   "cell_type": "code",
   "execution_count": 47,
   "metadata": {},
   "outputs": [
    {
     "ename": "AttributeError",
     "evalue": "'XGBClassifier' object has no attribute 'XGBClassifier'",
     "output_type": "error",
     "traceback": [
      "\u001b[0;31m---------------------------------------------------------------------------\u001b[0m",
      "\u001b[0;31mAttributeError\u001b[0m                            Traceback (most recent call last)",
      "\u001b[0;32m<ipython-input-47-c4e0a507684f>\u001b[0m in \u001b[0;36m<module>\u001b[0;34m()\u001b[0m\n\u001b[1;32m      3\u001b[0m \u001b[0mforest_final\u001b[0m \u001b[0;34m=\u001b[0m \u001b[0mRandomForestClassifier\u001b[0m\u001b[0;34m(\u001b[0m\u001b[0mn_estimators\u001b[0m\u001b[0;34m=\u001b[0m\u001b[0;36m600\u001b[0m\u001b[0;34m,\u001b[0m\u001b[0mclass_weight\u001b[0m\u001b[0;34m=\u001b[0m\u001b[0;34m\"balanced\"\u001b[0m\u001b[0;34m)\u001b[0m\u001b[0;34m\u001b[0m\u001b[0m\n\u001b[1;32m      4\u001b[0m \u001b[0mforest_final\u001b[0m\u001b[0;34m.\u001b[0m\u001b[0mfit\u001b[0m\u001b[0;34m(\u001b[0m\u001b[0mX\u001b[0m\u001b[0;34m,\u001b[0m\u001b[0my\u001b[0m\u001b[0;34m)\u001b[0m\u001b[0;34m\u001b[0m\u001b[0m\n\u001b[0;32m----> 5\u001b[0;31m \u001b[0mxgb_final\u001b[0m \u001b[0;34m=\u001b[0m \u001b[0mxgb\u001b[0m\u001b[0;34m.\u001b[0m\u001b[0mXGBClassifier\u001b[0m\u001b[0;34m(\u001b[0m\u001b[0mmax_depth\u001b[0m\u001b[0;34m=\u001b[0m\u001b[0;36m5\u001b[0m\u001b[0;34m,\u001b[0m\u001b[0mn_estimators\u001b[0m\u001b[0;34m=\u001b[0m\u001b[0;36m200\u001b[0m\u001b[0;34m)\u001b[0m\u001b[0;34m\u001b[0m\u001b[0m\n\u001b[0m\u001b[1;32m      6\u001b[0m \u001b[0mxgb_final\u001b[0m\u001b[0;34m.\u001b[0m\u001b[0mfit\u001b[0m\u001b[0;34m(\u001b[0m\u001b[0mX\u001b[0m\u001b[0;34m,\u001b[0m\u001b[0my\u001b[0m\u001b[0;34m)\u001b[0m\u001b[0;34m\u001b[0m\u001b[0m\n",
      "\u001b[0;31mAttributeError\u001b[0m: 'XGBClassifier' object has no attribute 'XGBClassifier'"
     ]
    }
   ],
   "source": [
    "lr_final = LogisticRegression(class_weight=\"balanced\",C=0.1)\n",
    "lr_final.fit(X,y)\n",
    "forest_final = RandomForestClassifier(n_estimators=600,class_weight=\"balanced\")\n",
    "forest_final.fit(X,y)\n"
   ]
  },
  {
   "cell_type": "code",
   "execution_count": 49,
   "metadata": {},
   "outputs": [
    {
     "data": {
      "text/plain": [
       "XGBClassifier(base_score=0.5, booster='gbtree', colsample_bylevel=1,\n",
       "       colsample_bytree=1, gamma=0, learning_rate=0.1, max_delta_step=0,\n",
       "       max_depth=5, min_child_weight=1, missing=None, n_estimators=200,\n",
       "       n_jobs=1, nthread=None, objective='binary:logistic', random_state=0,\n",
       "       reg_alpha=0, reg_lambda=1, scale_pos_weight=1, seed=None,\n",
       "       silent=True, subsample=1)"
      ]
     },
     "execution_count": 49,
     "metadata": {},
     "output_type": "execute_result"
    }
   ],
   "source": [
    "xgb_final = xgb.XGBClassifier(max_depth=5,n_estimators=200)\n",
    "xgb_final.fit(X,y)"
   ]
  },
  {
   "cell_type": "code",
   "execution_count": 52,
   "metadata": {},
   "outputs": [],
   "source": [
    "y_final_predict_lr = lr_final.predict_proba(X_final_test)[:,1]\n",
    "y_final_predict_forest = forest_final.predict_proba(X_final_test)[:,1]\n",
    "y_final_predict_xgb = xgb_final.predict_proba(X_final_test)[:,1]\n",
    "rate = np.array([25,0.50,35])\n",
    "y_final_predict = np.dot(rate,np.array([y_final_predict_forest,y_final_predict_lr,y_final_predict_xgb]))/np.sum(rate)"
   ]
  },
  {
   "cell_type": "code",
   "execution_count": 53,
   "metadata": {},
   "outputs": [],
   "source": [
    "y_final_predict = np.round(y_final_predict,6)"
   ]
  },
  {
   "cell_type": "code",
   "execution_count": 54,
   "metadata": {},
   "outputs": [
    {
     "data": {
      "text/plain": [
       "0.025188902663999833"
      ]
     },
     "execution_count": 54,
     "metadata": {},
     "output_type": "execute_result"
    }
   ],
   "source": [
    "np.average(y_final_predict)"
   ]
  },
  {
   "cell_type": "code",
   "execution_count": 55,
   "metadata": {},
   "outputs": [
    {
     "data": {
      "text/html": [
       "<div>\n",
       "<style scoped>\n",
       "    .dataframe tbody tr th:only-of-type {\n",
       "        vertical-align: middle;\n",
       "    }\n",
       "\n",
       "    .dataframe tbody tr th {\n",
       "        vertical-align: top;\n",
       "    }\n",
       "\n",
       "    .dataframe thead th {\n",
       "        text-align: right;\n",
       "    }\n",
       "</style>\n",
       "<table border=\"1\" class=\"dataframe\">\n",
       "  <thead>\n",
       "    <tr style=\"text-align: right;\">\n",
       "      <th></th>\n",
       "      <th>is_arrested</th>\n",
       "    </tr>\n",
       "  </thead>\n",
       "  <tbody>\n",
       "    <tr>\n",
       "      <th>0</th>\n",
       "      <td>0.006267</td>\n",
       "    </tr>\n",
       "    <tr>\n",
       "      <th>1</th>\n",
       "      <td>0.017358</td>\n",
       "    </tr>\n",
       "    <tr>\n",
       "      <th>2</th>\n",
       "      <td>0.399901</td>\n",
       "    </tr>\n",
       "  </tbody>\n",
       "</table>\n",
       "</div>"
      ],
      "text/plain": [
       "   is_arrested\n",
       "0     0.006267\n",
       "1     0.017358\n",
       "2     0.399901"
      ]
     },
     "execution_count": 55,
     "metadata": {},
     "output_type": "execute_result"
    }
   ],
   "source": [
    "submission = pd.DataFrame(data=y_final_predict, columns=['is_arrested'])\n",
    "submission.head(3)"
   ]
  },
  {
   "cell_type": "code",
   "execution_count": 56,
   "metadata": {},
   "outputs": [],
   "source": [
    "submission.to_csv(\"submission.csv\",index=False)"
   ]
  },
  {
   "cell_type": "code",
   "execution_count": null,
   "metadata": {},
   "outputs": [],
   "source": []
  }
 ],
 "metadata": {
  "kernelspec": {
   "display_name": "Python 3",
   "language": "python",
   "name": "python3"
  },
  "language_info": {
   "codemirror_mode": {
    "name": "ipython",
    "version": 3
   },
   "file_extension": ".py",
   "mimetype": "text/x-python",
   "name": "python",
   "nbconvert_exporter": "python",
   "pygments_lexer": "ipython3",
   "version": "3.6.5"
  }
 },
 "nbformat": 4,
 "nbformat_minor": 2
}
