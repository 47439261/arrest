{
 "cells": [
  {
   "cell_type": "markdown",
   "metadata": {},
   "source": [
    "## データについて\n",
    "各カラムの意味は以下の通りです.\n",
    "<table>\n",
    "  <thead>\n",
    "  <tr>\n",
    "    <td>.csvファイル</td>\n",
    "    <td>学習モデル</td>\n",
    "    <td>CVスコア</td>\n",
    "    <td>暫定スコア</td>\n",
    "    <td>備考</td>     \n",
    "  </tr>\n",
    "  </thead>\n",
    "  <tr>\n",
    "    <td>submission06102200.csv</td>\n",
    "    <td>LR only</td> \n",
    "    <td>0.87363</td>\n",
    "    <td>0.86669</td>\n",
    "    <td>officer_idは100000のみ</td>\n",
    "  </tr>\n",
    "  <tr>\n",
    "    <td>submission06111044.csv</td>\n",
    "    <td>{LR & RF(n=100)}/2</td> \n",
    "    <td>0.87809</td>\n",
    "    <td>0.?????</td>\n",
    "    <td>同上</td>\n",
    "  </tr>\n",
    "  <tr>\n",
    "    <td>submission06111100.csv</td>\n",
    "    <td>{LR & RF(n=100)}/2</td> \n",
    "    <td>0.88333</td>\n",
    "    <td>0.?????</td>\n",
    "    <td>stop_hourを修正</td>\n",
    "  </tr> \n",
    "  <tr>\n",
    "    <td>なし</td>\n",
    "    <td>XGB(深さ5)</td> \n",
    "    <td>0.88728</td>\n",
    "    <td>0.?????</td>\n",
    "    <td></td>\n",
    "  </tr>  \n",
    "  <tr>\n",
    "    <td>なし</td>\n",
    "    <td>XGB(深さ4,n_est=200)</td> \n",
    "    <td>0.88848</td>\n",
    "    <td>0.?????</td>\n",
    "    <td></td>\n",
    "  </tr>   \n",
    "  <tr>\n",
    "    <td>なし</td>\n",
    "    <td>XGB(深さ5)とLRを10:1</td> \n",
    "    <td>0.88766</td>\n",
    "    <td>0.?????</td>\n",
    "    <td></td>\n",
    "  </tr>  \n",
    "  <tr>\n",
    "    <td>なし</td>\n",
    "    <td>XGB(深さ4)</td> \n",
    "    <td>0.86897</td>\n",
    "    <td>0.?????</td>\n",
    "    <td>officer_idを追加した</td>\n",
    "  </tr>  \n",
    "  <tr>\n",
    "    <td>submission_06111430.csv</td>\n",
    "    <td>XGB(確か4と400)</td> \n",
    "    <td>0.?????</td>\n",
    "    <td>0.?????</td>\n",
    "    <td>nyx1で実行</td>\n",
    "  </tr>   \n",
    "  <tr>\n",
    "    <td>submission_06111430.csv</td>\n",
    "    <td>XGB&LR&RF</td> \n",
    "    <td>0.88907</td>\n",
    "    <td>0.?????</td>\n",
    "    <td>nyx1で実行</td>\n",
    "  </tr>  \n",
    "  <tr>\n",
    "    <td>submission_06131630.csv</td>\n",
    "    <td>xgb(4,200):mlp:lgb=70:70:3</td> \n",
    "    <td>0.8869</td>\n",
    "    <td>0.?????</td>\n",
    "    <td>nyx1で実行、_clean_06111230を使用</td>\n",
    "  </tr>   \n",
    "  <tr>\n",
    "    <td>submission_06131630.csv</td>\n",
    "    <td>xgb(4,200):mlp=1:1</td> \n",
    "    <td>0.8892</td>\n",
    "    <td>0.?????</td>\n",
    "    <td>nyx1で実行、_clean_06131800を使用。lgbmいらんかった...。</td>\n",
    "  </tr>     \n",
    "</table>\n"
   ]
  },
  {
   "cell_type": "code",
   "execution_count": 1,
   "metadata": {},
   "outputs": [
    {
     "name": "stderr",
     "output_type": "stream",
     "text": [
      "/Users/KojiMinoda/.pyenv/versions/anaconda3-4.3.1/lib/python3.6/site-packages/sklearn/cross_validation.py:41: DeprecationWarning: This module was deprecated in version 0.18 in favor of the model_selection module into which all the refactored classes and functions are moved. Also note that the interface of the new CV iterators are different from that of this module. This module will be removed in 0.20.\n",
      "  \"This module will be removed in 0.20.\", DeprecationWarning)\n",
      "/Users/KojiMinoda/.pyenv/versions/anaconda3-4.3.1/lib/python3.6/site-packages/sklearn/grid_search.py:42: DeprecationWarning: This module was deprecated in version 0.18 in favor of the model_selection module into which all the refactored classes and functions are moved. This module will be removed in 0.20.\n",
      "  DeprecationWarning)\n"
     ]
    }
   ],
   "source": [
    "import pandas as pd\n",
    "import numpy as np\n",
    "import matplotlib.pylab as plt\n",
    "from datetime import datetime\n",
    "\n",
    "import xgboost as xgb\n",
    "from sklearn.model_selection import train_test_split\n",
    "from sklearn.ensemble import RandomForestClassifier,AdaBoostClassifier\n",
    "#m = xgb.XGBRegressor()\n",
    "from sklearn.metrics import roc_auc_score\n",
    "from sklearn.linear_model import LogisticRegression\n",
    "from sklearn.neural_network import MLPClassifier\n",
    "from sklearn.preprocessing import PolynomialFeatures\n",
    "from sklearn.preprocessing import StandardScaler\n",
    "#from lightgbm import LGBMClassifier\n",
    "from sklearn.grid_search import GridSearchCV\n",
    "from scipy.sparse import csr_matrix\n",
    "from sklearn.model_selection import cross_val_score"
   ]
  },
  {
   "cell_type": "code",
   "execution_count": 2,
   "metadata": {},
   "outputs": [],
   "source": [
    "df = pd.read_csv(\"train_clean_06180000.csv\")\n",
    "df_test = pd.read_csv(\"test_clean_06180000.csv\")"
   ]
  },
  {
   "cell_type": "code",
   "execution_count": 77,
   "metadata": {},
   "outputs": [],
   "source": [
    "df = pd.read_csv(\"train_clean_06181111.csv\")\n",
    "df_test = pd.read_csv(\"test_clean_06181111.csv\")"
   ]
  },
  {
   "cell_type": "code",
   "execution_count": 78,
   "metadata": {},
   "outputs": [
    {
     "name": "stdout",
     "output_type": "stream",
     "text": [
      "<class 'pandas.core.frame.DataFrame'>\n",
      "RangeIndex: 219319 entries, 0 to 219318\n",
      "Columns: 860 entries, driver_gender to location_I395\n",
      "dtypes: float64(785), int64(75)\n",
      "memory usage: 1.4 GB\n"
     ]
    }
   ],
   "source": [
    "df.info()"
   ]
  },
  {
   "cell_type": "code",
   "execution_count": 66,
   "metadata": {},
   "outputs": [
    {
     "data": {
      "text/plain": [
       "Index(['Y', 'location_monroe', 'location_north branford', 'location_avon',\n",
       "       'location_portland', 'location_hartland', 'location_easton',\n",
       "       'location_bloomfield', 'location_ridgefield', 'location_suffield',\n",
       "       'location_wolcott', 'location_simsbury', 'location_granby',\n",
       "       'location_wilton'],\n",
       "      dtype='object')"
      ]
     },
     "execution_count": 66,
     "metadata": {},
     "output_type": "execute_result"
    }
   ],
   "source": [
    "df.columns[df.sum()<30]"
   ]
  },
  {
   "cell_type": "code",
   "execution_count": null,
   "metadata": {},
   "outputs": [],
   "source": [
    "sc = StandardScaler()\n",
    "df[[\"driver_age_raw\",\"population\",\"area\",\"stop_day\",\"X\",\"Y\"]]= sc.fit_transform(df[[\"driver_age_raw\",\"population\",\"area\",\"stop_day\",\"X\",\"Y\"]])\n",
    "df_test[[\"driver_age_raw\",\"population\",\"area\",\"stop_day\",\"X\",\"Y\"]] = sc.fit_transform(df_test[[\"driver_age_raw\",\"population\",\"area\",\"stop_day\",\"X\",\"Y\"]])"
   ]
  },
  {
   "cell_type": "code",
   "execution_count": null,
   "metadata": {},
   "outputs": [],
   "source": [
    "X = df.drop([\"is_arrested\"],axis=1)\n",
    "y = df[\"is_arrested\"]\n",
    "X_train, X_test, y_train, y_test = train_test_split(X, y, train_size=0.8)"
   ]
  },
  {
   "cell_type": "code",
   "execution_count": 69,
   "metadata": {},
   "outputs": [],
   "source": [
    "X = df.drop([\"is_arrested\",'location_monroe', 'location_north branford', 'location_avon',\n",
    "       'location_portland', 'location_hartland', 'location_easton',\n",
    "       'location_bloomfield', 'location_ridgefield', 'location_suffield',\n",
    "       'location_wolcott', 'location_simsbury', 'location_granby',\n",
    "       'location_wilton'],axis=1)\n",
    "y = df[\"is_arrested\"]"
   ]
  },
  {
   "cell_type": "code",
   "execution_count": 13,
   "metadata": {},
   "outputs": [
    {
     "name": "stderr",
     "output_type": "stream",
     "text": [
      "/Users/KojiMinoda/.pyenv/versions/anaconda3-4.3.1/lib/python3.6/site-packages/sklearn/model_selection/_split.py:2026: FutureWarning: From version 0.21, test_size will always complement train_size unless both are specified.\n",
      "  FutureWarning)\n"
     ]
    }
   ],
   "source": [
    "y = df[\"is_arrested\"]\n",
    "X_csr = csr_matrix(df.drop([\"is_arrested\"],axis=1))\n",
    "X_train, X_test, y_train, y_test = train_test_split(X_csr, y, train_size=0.8)"
   ]
  },
  {
   "cell_type": "code",
   "execution_count": 18,
   "metadata": {},
   "outputs": [
    {
     "name": "stdout",
     "output_type": "stream",
     "text": [
      "Best Model Parameter:  {'learning_rate': 0.1, 'max_depth': 4, 'n_estimators': 300}\n"
     ]
    }
   ],
   "source": [
    "param_grid = {\"max_depth\": [2,3,4],\n",
    "              \"n_estimators\":[50,100,300,500],\n",
    "              #\"reg_lambda\": [1, 100, 500],\n",
    "              #\"num_leaves\": [20, 30, 40],\n",
    "              \"learning_rate\": [0.01, 0.1, 0.3]\n",
    "             }\n",
    "lgbm_grid = GridSearchCV(estimator=LGBMClassifier(random_state=0),\n",
    "                 param_grid = param_grid,   \n",
    "                 scoring=\"roc_auc\", \n",
    "                 cv = 10,\n",
    "                 n_jobs = 8)   \n",
    "lgbm_grid.fit(X,y) \n",
    "lgbm_grid_best = lgbm_grid.best_estimator_\n",
    "print(\"Best Model Parameter: \",lgbm_grid.best_params_)"
   ]
  },
  {
   "cell_type": "code",
   "execution_count": 14,
   "metadata": {},
   "outputs": [
    {
     "ename": "NameError",
     "evalue": "name 'LGBMClassifier' is not defined",
     "output_type": "error",
     "traceback": [
      "\u001b[0;31m---------------------------------------------------------------------------\u001b[0m",
      "\u001b[0;31mNameError\u001b[0m                                 Traceback (most recent call last)",
      "\u001b[0;32m<timed exec>\u001b[0m in \u001b[0;36m<module>\u001b[0;34m()\u001b[0m\n",
      "\u001b[0;31mNameError\u001b[0m: name 'LGBMClassifier' is not defined"
     ]
    }
   ],
   "source": [
    "%%time\n",
    "lgbc = LGBMClassifier(class_weight=\"balanced\",max_depth=5,n_estimators=500,learning_rate=0.1\n",
    "                      ,num_leaves=10,min_child_weight=1000)\n",
    "lgbc.fit(X_train,y_train)\n",
    "y_predict_lgb = lgbc.predict_proba(X_test)[:,1]\n",
    "y_train_predict_lgb = lgbc.predict_proba(X_train)[:,1]\n",
    "print(\"train data score:\",roc_auc_score(y_train.values,y_train_predict_lgb))\n",
    "print(\"cross validation score:\",roc_auc_score(y_test.values,y_predict_lgb))"
   ]
  },
  {
   "cell_type": "code",
   "execution_count": 48,
   "metadata": {},
   "outputs": [
    {
     "name": "stdout",
     "output_type": "stream",
     "text": [
      "train data score: 0.9196806827070264\n",
      "cross validation score: 0.8871182972647145\n",
      "CPU times: user 31.6 s, sys: 236 ms, total: 31.9 s\n",
      "Wall time: 32.3 s\n"
     ]
    }
   ],
   "source": [
    "%%time\n",
    "##06180000.csv用パラメータ\n",
    "xgbc = xgb.XGBClassifier(class_weight=\"balanced\"\n",
    "                         ,max_depth=7\n",
    "                         ,min_child_weight=5\n",
    "                         ,gamma = 0.10\n",
    "                         ,subsample=0.90\n",
    "                         ,colsample_bytree=0.8\n",
    "                         ,scale_pos_weight=1\n",
    "                         ,reg_alpha=0.0\n",
    "                         ,learning_rate=0.1)\n",
    "xgbc.fit(X_train,y_train)\n",
    "y_predict_xgb = xgbc.predict_proba(X_test)[:,1]\n",
    "y_train_predict_xgb = xgbc.predict_proba(X_train)[:,1]\n",
    "print(\"train data score:\",roc_auc_score(y_train.values,y_train_predict_xgb))\n",
    "print(\"cross validation score:\",roc_auc_score(y_test.values,y_predict_xgb))"
   ]
  },
  {
   "cell_type": "code",
   "execution_count": 48,
   "metadata": {},
   "outputs": [
    {
     "name": "stdout",
     "output_type": "stream",
     "text": [
      "train data score: 0.9196806827070264\n",
      "cross validation score: 0.8871182972647145\n",
      "CPU times: user 31.6 s, sys: 236 ms, total: 31.9 s\n",
      "Wall time: 32.3 s\n"
     ]
    }
   ],
   "source": [
    "%%time\n",
    "##06181111.csv用パラメータ\n",
    "xgbc = xgb.XGBClassifier(class_weight=\"balanced\"\n",
    "                         ,max_depth=7\n",
    "                         ,min_child_weight=5\n",
    "                         ,gamma = 0.10\n",
    "                         ,subsample=0.90\n",
    "                         ,colsample_bytree=0.8\n",
    "                         ,scale_pos_weight=1\n",
    "                         ,reg_alpha=0.0\n",
    "                         ,learning_rate=0.1)\n",
    "xgbc.fit(X_train,y_train)\n",
    "y_predict_xgb = xgbc.predict_proba(X_test)[:,1]\n",
    "y_train_predict_xgb = xgbc.predict_proba(X_train)[:,1]\n",
    "print(\"train data score:\",roc_auc_score(y_train.values,y_train_predict_xgb))\n",
    "print(\"cross validation score:\",roc_auc_score(y_test.values,y_predict_xgb))"
   ]
  },
  {
   "cell_type": "markdown",
   "metadata": {},
   "source": [
    "<table class=\"table2\">\n",
    "    <caption>縦：min_child_weight,横:max_depth</caption>\n",
    "  <tr><th></th><th>6</th><th>7</th><th>8</th></tr>\n",
    "  <tr><td>4</td><td>0.911/0.885</td><td>0.921/0.885</td><td>???/???</td></tr>\n",
    "  <tr><td>5</td><td>???/0.886</td><td>0./0.887</td><td>0.930/0.886</td></tr>\n",
    "  <tr><td>6</td><td>???/???</td><td>0.917/0.884</td><td>0.928/0.886</td></tr>\n",
    "</table>"
   ]
  },
  {
   "cell_type": "markdown",
   "metadata": {},
   "source": [
    "<table class=\"table2\">\n",
    "    <caption>縦：min_child_weight,横:max_depth</caption>\n",
    "  <tr><th></th><th>3</th><th>5</th><th>7</th><th>9</th></tr>\n",
    "  <tr><td>1</td><td>0.880/0.881</td><td>0.903/0.8857</td><td>???,???</td><td>???,???</td></tr>\n",
    "  <tr><td>3</td><td>???,???</td><td>0.901/0.886</td><td>0.924/0.885</td><td>0.946/0.883</td></tr>\n",
    "  <tr><td>5</td><td>0.879/0.880</td><td>0.899/0.885</td><td>0.920/0.887</td><td>???,???</td></tr>\n",
    "  <tr><td>7</td><td>???? / ????</td><td>0.898/0.884</td><td>???/0.884</td><td>0.932/0.884</td></tr>\n",
    "</table>"
   ]
  },
  {
   "cell_type": "markdown",
   "metadata": {},
   "source": [
    "<table class=\"table2\">\n",
    "    <caption>縦：subsample,横:col_sample_tree</caption>\n",
    "  <tr><th></th><th>0.6</th><th>0.7</th><th>0.8</th><th>0.9</th></tr>\n",
    "  <tr><td>0.6</td><td>???,???</td><td>0.904/0.883</td><td>0.930/0.884</td><td>0.957/0.885</td></tr>\n",
    "  <tr><td>0.7</td><td>0.880/0.874</td><td>???/??? </td><td>0.922/0.883</td><td>0.945/0.885</td></tr>\n",
    "  <tr><td>0.8</td><td>???,???</td><td>0.901/0.881</td><td>0.919/0.884</td><td>0.939/0.884</td></tr>\n",
    "  <tr><td>0.9</td><td>???? / ????</td><td></td><td>0.916/0.883</td><td>0.933/0.884</td></tr>\n",
    "</table>"
   ]
  },
  {
   "cell_type": "markdown",
   "metadata": {},
   "source": [
    "<table class=\"table2\">\n",
    "    <caption>縦：min_child_weight,横:max_depth</caption>\n",
    "  <tr><th></th><th>8</th><th>9</th><th>10</th></tr>\n",
    "  <tr><td>2</td><td>0.936/0.884</td><td>0.950/0.883</td><td>0.961/0.882</td></tr>\n",
    "  <tr><td>3</td><td>0.933/0.884 </td><td>0.944/0.886</td><td>0.954/0.883</td></tr>\n",
    "  <tr><td>4</td><td>0.931/0.883</td><td>0.945/0.882</td><td>0.951/0.883</td></tr>\n",
    "</table>"
   ]
  },
  {
   "cell_type": "markdown",
   "metadata": {},
   "source": [
    "<table class=\"table2\">\n",
    "    <caption>縦：min_child_weight,横:max_depth</caption>\n",
    "  <tr><th></th><th>3</th><th>5</th><th>7</th><th>9</th></tr>\n",
    "  <tr><td>1</td><td>???,???</td><td>0.904/0.883</td><td>0.930/0.884</td><td>0.957/0.885</td></tr>\n",
    "  <tr><td>3</td><td>0.880/0.874</td><td>???/??? </td><td>0.922/0.883</td><td>0.945/0.885</td></tr>\n",
    "  <tr><td>5</td><td>???,???</td><td>0.901/0.881</td><td>0.919/0.884</td><td>0.939/0.884</td></tr>\n",
    "  <tr><td>7</td><td>???? / ????</td><td></td><td>0.916/0.883</td><td>0.933/0.884</td></tr>\n",
    "</table>"
   ]
  },
  {
   "cell_type": "markdown",
   "metadata": {},
   "source": [
    "<table class=\"table2\">\n",
    "    <caption>06121820</caption>\n",
    "  <tr><th></th><th>3</th><th>4</th><th>5</th><th>6</th></tr>\n",
    "  <tr><td>100</td><td>???,???</td><td>??? / ???</td><td>0.8990 / 0.8768</td><td>???,???</td></tr>\n",
    "  <tr><td>200</td><td>???,???</td><td>??? / </td><td>???,???</td><td>???,???</td></tr>\n",
    "  <tr><td>300</td><td>???,???</td><td>??? / >???</td><td>???,???</td><td>???,???</td></tr>\n",
    "    <tr><td>500</td><td>???? / ????</td><td>0.9181 / 0.8734</td><td>?? / ???</td><td>???,???</td></tr>\n",
    "  <tr><td>700</td><td>0.9054 / 0.8726</td><td>???? / ????</td><td>??? / ???</td><td>???,???</td>\n",
    "</table>\n",
    "\n",
    "\n",
    "<table class=\"table2\">\n",
    "    <caption>06111230</caption>\n",
    "  <tr><th></th><th>3</th><th>4</th><th>5</th><th>6</th></tr>\n",
    "  <tr><td>100</td><td>???,???</td><td>0.8903 / 0.8768</td><td>??? / 0.8872?</td><td>???,???</td></tr>\n",
    "  <tr><td>200</td><td>???,???</td><td>??? / </td><td>???,???</td><td>???,???</td></tr>\n",
    "  <tr><td>300</td><td>???,???</td><td>0.9093 / 0.8793</td><td>???,???</td><td>???,???</td></tr>\n",
    "    <tr><td>500</td><td>0.9004,0.8791</td><td>0.9184 / 0.8811</td><td>0.9376 / 0.8699</td><td>???,???</td></tr>\n",
    "  <tr><td>700</td><td>???,???</td><td>0.9272 / 0.8809</td><td>??? / ???</td><td>???,???</td>\n",
    "</table>"
   ]
  },
  {
   "cell_type": "code",
   "execution_count": 68,
   "metadata": {},
   "outputs": [
    {
     "name": "stdout",
     "output_type": "stream",
     "text": [
      "train data score: 0.8915722912690084\n",
      "cross validation score: 0.8773911586511993\n",
      "CPU times: user 24.7 s, sys: 405 ms, total: 25.1 s\n",
      "Wall time: 12.7 s\n"
     ]
    }
   ],
   "source": [
    "%%time\n",
    "mlp = MLPClassifier(alpha=1e-2,hidden_layer_sizes=8, random_state=1)\n",
    "mlp.fit(X_train,y_train)\n",
    "y_predict_mlp = mlp.predict_proba(X_test)[:,1]\n",
    "y_train_predict_mlp = mlp.predict_proba(X_train)[:,1]\n",
    "print(\"train data score:\",roc_auc_score(y_train.values,y_train_predict_mlp))\n",
    "print(\"cross validation score:\",roc_auc_score(y_test.values,y_predict_mlp))"
   ]
  },
  {
   "cell_type": "code",
   "execution_count": 73,
   "metadata": {},
   "outputs": [
    {
     "name": "stdout",
     "output_type": "stream",
     "text": [
      "train data score: 0.8804598466356508\n",
      "cross validation score: 0.8753269408913045\n",
      "CPU times: user 2.44 s, sys: 59.7 ms, total: 2.5 s\n",
      "Wall time: 2.44 s\n"
     ]
    }
   ],
   "source": [
    "%%time\n",
    "lr = LogisticRegression(class_weight=\"balanced\",C=0.1)\n",
    "lr.fit(X_train,y_train)\n",
    "y_predict_lr = lr.predict_proba(X_test)[:,1]\n",
    "y_train_predict_lr = lr.predict_proba(X_train)[:,1]\n",
    "print(\"train data score:\",roc_auc_score(y_train.values,y_train_predict_lr))\n",
    "print(\"cross validation score:\",roc_auc_score(y_test.values,y_predict_lr))"
   ]
  },
  {
   "cell_type": "code",
   "execution_count": 33,
   "metadata": {},
   "outputs": [
    {
     "name": "stdout",
     "output_type": "stream",
     "text": [
      "train data score: 0.8619618898679375\n",
      "cross validation score: 0.8436802550260822\n",
      "CPU times: user 26.7 s, sys: 660 ms, total: 27.4 s\n",
      "Wall time: 12.2 s\n"
     ]
    }
   ],
   "source": [
    "%%time\n",
    "forest = RandomForestClassifier(max_depth=3,n_estimators=200,class_weight=\"balanced\")\n",
    "forest.fit(X_train,y_train)\n",
    "y_predict_forest = forest.predict_proba(X_test)[:,1]\n",
    "y_train_predict_forest = forest.predict_proba(X_train)[:,1]\n",
    "print(\"train data score:\",roc_auc_score(y_train.values,y_train_predict_forest))\n",
    "print(\"cross validation score:\",roc_auc_score(y_test.values,y_predict_forest))"
   ]
  },
  {
   "cell_type": "code",
   "execution_count": 74,
   "metadata": {},
   "outputs": [
    {
     "name": "stdout",
     "output_type": "stream",
     "text": [
      "train data score: 0.8782988742810675\n",
      "cross validation score: 0.8705607415770089\n",
      "CPU times: user 56.8 s, sys: 3.1 s, total: 59.9 s\n",
      "Wall time: 31 s\n"
     ]
    }
   ],
   "source": [
    "%%time\n",
    "adbc = AdaBoostClassifier(n_estimators=100)\n",
    "adbc.fit(X_train,y_train)\n",
    "y_predict_adb = adbc.predict_proba(X_test)[:,1]\n",
    "y_train_predict_adb = adbc.predict_proba(X_train)[:,1]\n",
    "print(\"train data score:\",roc_auc_score(y_train.values,y_train_predict_adb))\n",
    "print(\"cross validation score:\",roc_auc_score(y_test.values,y_predict_adb))"
   ]
  },
  {
   "cell_type": "markdown",
   "metadata": {},
   "source": [
    "<table>\n",
    "  <caption>clean_06121840</caption>\n",
    "  <thead>\n",
    "  <tr>\n",
    "    <td>あるふぁ</td>\n",
    "    <td>隠れ層サイズ</td>\n",
    "    <td>train data score</td>  \n",
    "    <td>cross validation score</td>       \n",
    "  </tr>\n",
    "  </thead>\n",
    "  <tr>\n",
    "    <td>1e-2</td>\n",
    "    <td>10</td> \n",
    "    <td>0.8877</td>\n",
    "    <td>0.8893</td>\n",
    "  </tr>\n",
    "  <tr>\n",
    "    <td>1e-2</td>\n",
    "    <td>6</td> \n",
    "    <td>0.8887</td>\n",
    "    <td>0.8825</td>\n",
    "  </tr> \n",
    "</table>\n",
    "<table>\n",
    "  <caption>clean_06111230</caption>\n",
    "  <thead>\n",
    "  <tr>\n",
    "    <td>あるふぁ</td>\n",
    "    <td>隠れ層サイズ</td>\n",
    "    <td>train data score</td>  \n",
    "    <td>cross validation score</td>       \n",
    "  </tr>\n",
    "  </thead>\n",
    "  <tr>\n",
    "    <td>1e-5</td>\n",
    "    <td>50</td> \n",
    "    <td>0.96</td>\n",
    "    <td>0.82</td>\n",
    "  </tr> \n",
    "  <tr>\n",
    "    <td>1e-5</td>\n",
    "    <td>30</td> \n",
    "    <td>0.946</td>\n",
    "    <td>0.8284</td>\n",
    "  </tr>    \n",
    "  <tr>\n",
    "    <td>1e-5</td>\n",
    "    <td>20</td> \n",
    "    <td>0.9258</td>\n",
    "    <td>0.8543</td>\n",
    "  </tr>   \n",
    "  <tr>\n",
    "    <td>1e-5</td>\n",
    "    <td>10</td> \n",
    "    <td>0.9072</td>\n",
    "    <td>0.8718</td>\n",
    "  </tr> \n",
    "  <tr>\n",
    "    <td>1e-5</td>\n",
    "    <td>6</td> \n",
    "    <td>0.8934</td>\n",
    "    <td>0.8802</td>\n",
    "  </tr>   \n",
    "  <tr>\n",
    "    <td>1e-3</td>\n",
    "    <td>6</td> \n",
    "    <td>0.8923</td>\n",
    "    <td>0.8828</td>\n",
    "  </tr>\n",
    "  <tr>\n",
    "    <td>1e-2</td>\n",
    "    <td>6</td> \n",
    "    <td>0.8910</td>\n",
    "    <td>0.8834</td>\n",
    "  </tr>   \n",
    "  <tr>\n",
    "    <td>1e-5</td>\n",
    "    <td>3</td> \n",
    "    <td>0.8747</td>\n",
    "    <td>0.8612</td>\n",
    "  </tr>   \n",
    "</table>"
   ]
  },
  {
   "cell_type": "code",
   "execution_count": 76,
   "metadata": {},
   "outputs": [
    {
     "data": {
      "text/plain": [
       "0.887306632522485"
      ]
     },
     "execution_count": 76,
     "metadata": {},
     "output_type": "execute_result"
    }
   ],
   "source": [
    "#lr,xgb,mlp,lgbm\n",
    "rate = np.array([15,2])\n",
    "roc_auc_score(y_test.values,np.dot(rate,np.array([y_predict_xgb\n",
    "                                                  ,y_predict_mlp]))/np.sum(rate))"
   ]
  },
  {
   "cell_type": "code",
   "execution_count": 10,
   "metadata": {},
   "outputs": [],
   "source": [
    "X_final_test =  csr_matrix(df_test)"
   ]
  },
  {
   "cell_type": "code",
   "execution_count": 224,
   "metadata": {},
   "outputs": [
    {
     "name": "stdout",
     "output_type": "stream",
     "text": [
      "CPU times: user 2.25 s, sys: 568 ms, total: 2.82 s\n",
      "Wall time: 2.82 s\n"
     ]
    }
   ],
   "source": [
    "%%time\n",
    "lgbc_final = LGBMClassifier(class_weight=\"balanced\",n_estimators=30,learning_rate=0.3\n",
    "                      ,reg_lambda=40,num_leaves=45)\n",
    "lgbc_final.fit(X,y)"
   ]
  },
  {
   "cell_type": "code",
   "execution_count": 7,
   "metadata": {},
   "outputs": [
    {
     "name": "stdout",
     "output_type": "stream",
     "text": [
      "CPU times: user 39 s, sys: 149 ms, total: 39.1 s\n",
      "Wall time: 39.2 s\n"
     ]
    }
   ],
   "source": [
    "%%time\n",
    "xgb_final = xgb.XGBClassifier(class_weight=\"balanced\"\n",
    "                         ,max_depth=9\n",
    "                         ,min_child_weight=3\n",
    "                         ,gamma = 0.1\n",
    "                         ,subsample=0.90\n",
    "                         ,colsample_bytree=0.8\n",
    "                         ,scale_pos_weight=1\n",
    "                         ,reg_alpha=0.0\n",
    "                         ,learning_rate=0.1)\n",
    "xgb_final.fit(X_csr,y)"
   ]
  },
  {
   "cell_type": "code",
   "execution_count": 8,
   "metadata": {},
   "outputs": [
    {
     "name": "stdout",
     "output_type": "stream",
     "text": [
      "CPU times: user 31.8 s, sys: 512 ms, total: 32.3 s\n",
      "Wall time: 16.3 s\n"
     ]
    }
   ],
   "source": [
    "%%time\n",
    "mlp_final = MLPClassifier(alpha=1e-2,hidden_layer_sizes=6, random_state=1)\n",
    "mlp_final.fit(X_csr,y)"
   ]
  },
  {
   "cell_type": "code",
   "execution_count": 11,
   "metadata": {},
   "outputs": [],
   "source": [
    "y_final_predict_xgb = xgb_final.predict_proba(X_final_test)[:,1]\n",
    "y_final_predict_mlp = mlp_final.predict_proba(X_final_test)[:,1]\n",
    "rate = np.array([2,1])\n",
    "y_final_predict = np.dot(rate,np.array([y_final_predict_xgb,y_final_predict_mlp]))/np.sum(rate)"
   ]
  },
  {
   "cell_type": "code",
   "execution_count": 12,
   "metadata": {},
   "outputs": [],
   "source": [
    "y_final_predict = np.round(y_final_predict,6)"
   ]
  },
  {
   "cell_type": "code",
   "execution_count": 13,
   "metadata": {},
   "outputs": [
    {
     "data": {
      "text/plain": [
       "0.022711434878822052"
      ]
     },
     "execution_count": 13,
     "metadata": {},
     "output_type": "execute_result"
    }
   ],
   "source": [
    "np.average(y_final_predict)"
   ]
  },
  {
   "cell_type": "code",
   "execution_count": 14,
   "metadata": {},
   "outputs": [
    {
     "data": {
      "text/html": [
       "<div>\n",
       "<style scoped>\n",
       "    .dataframe tbody tr th:only-of-type {\n",
       "        vertical-align: middle;\n",
       "    }\n",
       "\n",
       "    .dataframe tbody tr th {\n",
       "        vertical-align: top;\n",
       "    }\n",
       "\n",
       "    .dataframe thead th {\n",
       "        text-align: right;\n",
       "    }\n",
       "</style>\n",
       "<table border=\"1\" class=\"dataframe\">\n",
       "  <thead>\n",
       "    <tr style=\"text-align: right;\">\n",
       "      <th></th>\n",
       "      <th>is_arrested</th>\n",
       "    </tr>\n",
       "  </thead>\n",
       "  <tbody>\n",
       "    <tr>\n",
       "      <th>0</th>\n",
       "      <td>0.004605</td>\n",
       "    </tr>\n",
       "    <tr>\n",
       "      <th>1</th>\n",
       "      <td>0.015865</td>\n",
       "    </tr>\n",
       "    <tr>\n",
       "      <th>2</th>\n",
       "      <td>0.320153</td>\n",
       "    </tr>\n",
       "  </tbody>\n",
       "</table>\n",
       "</div>"
      ],
      "text/plain": [
       "   is_arrested\n",
       "0     0.004605\n",
       "1     0.015865\n",
       "2     0.320153"
      ]
     },
     "execution_count": 14,
     "metadata": {},
     "output_type": "execute_result"
    }
   ],
   "source": [
    "submission = pd.DataFrame(data=y_final_predict, columns=['is_arrested'])\n",
    "submission.head(3)"
   ]
  },
  {
   "cell_type": "code",
   "execution_count": 15,
   "metadata": {},
   "outputs": [],
   "source": [
    "submission.to_csv(\"submission.csv\",index=False)"
   ]
  },
  {
   "cell_type": "code",
   "execution_count": null,
   "metadata": {},
   "outputs": [],
   "source": []
  }
 ],
 "metadata": {
  "kernelspec": {
   "display_name": "Python 3",
   "language": "python",
   "name": "python3"
  },
  "language_info": {
   "codemirror_mode": {
    "name": "ipython",
    "version": 3
   },
   "file_extension": ".py",
   "mimetype": "text/x-python",
   "name": "python",
   "nbconvert_exporter": "python",
   "pygments_lexer": "ipython3",
   "version": "3.6.5"
  }
 },
 "nbformat": 4,
 "nbformat_minor": 2
}
