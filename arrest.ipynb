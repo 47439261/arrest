{
 "cells": [
  {
   "cell_type": "markdown",
   "metadata": {},
   "source": [
    "## データについて\n",
    "各カラムの意味は以下の通りです.\n",
    "<table>\n",
    "  <thead>\n",
    "  <tr>\n",
    "    <td>.csvファイル</td>\n",
    "    <td>学習モデル</td>\n",
    "    <td>CVスコア</td>\n",
    "    <td>暫定スコア</td>\n",
    "    <td>備考</td>     \n",
    "  </tr>\n",
    "  </thead>\n",
    "  <tr>\n",
    "    <td>submission06102200.csv</td>\n",
    "    <td>LR only</td> \n",
    "    <td>0.87363</td>\n",
    "    <td>0.86669</td>\n",
    "    <td>officer_idは100000のみ</td>\n",
    "  </tr>\n",
    "  <tr>\n",
    "    <td>submission06111044.csv</td>\n",
    "    <td>{LR & RF(n=100)}/2</td> \n",
    "    <td>0.87809</td>\n",
    "    <td>0.?????</td>\n",
    "    <td>同上</td>\n",
    "  </tr>\n",
    "  <tr>\n",
    "    <td>submission06111100.csv</td>\n",
    "    <td>{LR & RF(n=100)}/2</td> \n",
    "    <td>0.88333</td>\n",
    "    <td>0.?????</td>\n",
    "    <td>stop_hourを修正</td>\n",
    "  </tr> \n",
    "  <tr>\n",
    "    <td>なし</td>\n",
    "    <td>XGB(深さ5)</td> \n",
    "    <td>0.88728</td>\n",
    "    <td>0.?????</td>\n",
    "    <td></td>\n",
    "  </tr>  \n",
    "  <tr>\n",
    "    <td>なし</td>\n",
    "    <td>XGB(深さ4,n_est=200)</td> \n",
    "    <td>0.88848</td>\n",
    "    <td>0.?????</td>\n",
    "    <td></td>\n",
    "  </tr>   \n",
    "  <tr>\n",
    "    <td>なし</td>\n",
    "    <td>XGB(深さ5)とLRを10:1</td> \n",
    "    <td>0.88766</td>\n",
    "    <td>0.?????</td>\n",
    "    <td></td>\n",
    "  </tr>  \n",
    "  <tr>\n",
    "    <td>なし</td>\n",
    "    <td>XGB(深さ4)</td> \n",
    "    <td>0.86897</td>\n",
    "    <td>0.?????</td>\n",
    "    <td>officer_idを追加した</td>\n",
    "  </tr>  \n",
    "  <tr>\n",
    "    <td>submission_06111430.csv</td>\n",
    "    <td>XGB(確か4と400)</td> \n",
    "    <td>0.?????</td>\n",
    "    <td>0.?????</td>\n",
    "    <td>nyx1で実行</td>\n",
    "  </tr>   \n",
    "  <tr>\n",
    "    <td>submission_06111430.csv</td>\n",
    "    <td>XGB&LR&RF</td> \n",
    "    <td>0.88907</td>\n",
    "    <td>0.?????</td>\n",
    "    <td>nyx1で実行</td>\n",
    "  </tr>  \n",
    "  <tr>\n",
    "    <td>submission_06131630.csv</td>\n",
    "    <td>xgb(4,200):mlp:lgb=70:70:3</td> \n",
    "    <td>0.8869</td>\n",
    "    <td>0.?????</td>\n",
    "    <td>nyx1で実行</td>\n",
    "  </tr>     \n",
    "</table>\n"
   ]
  },
  {
   "cell_type": "code",
   "execution_count": 104,
   "metadata": {},
   "outputs": [],
   "source": [
    "import pandas as pd\n",
    "import numpy as np\n",
    "import matplotlib.pylab as plt\n",
    "from datetime import datetime\n",
    "\n",
    "import xgboost as xgb\n",
    "from sklearn.model_selection import train_test_split\n",
    "from sklearn.ensemble import RandomForestClassifier,AdaBoostClassifier\n",
    "#m = xgb.XGBRegressor()\n",
    "from sklearn.metrics import roc_auc_score\n",
    "from sklearn.linear_model import LogisticRegression\n",
    "from sklearn.neural_network import MLPClassifier\n",
    "from sklearn.preprocessing import PolynomialFeatures\n",
    "from lightgbm import LGBMClassifier"
   ]
  },
  {
   "cell_type": "code",
   "execution_count": 21,
   "metadata": {},
   "outputs": [],
   "source": [
    "df = pd.read_csv(\"train_clean_06111230.csv\")\n",
    "df_test = pd.read_csv(\"test_clean_06111230.csv\")"
   ]
  },
  {
   "cell_type": "code",
   "execution_count": 2,
   "metadata": {},
   "outputs": [],
   "source": [
    "df = pd.read_csv(\"train_clean_06131000.csv\")\n",
    "df_test = pd.read_csv(\"test_clean_06131000.csv\")"
   ]
  },
  {
   "cell_type": "code",
   "execution_count": 18,
   "metadata": {},
   "outputs": [],
   "source": [
    "df = pd.read_csv(\"train_clean_06131430.csv\")\n",
    "df_test = pd.read_csv(\"test_clean_06131430.csv\")"
   ]
  },
  {
   "cell_type": "code",
   "execution_count": 22,
   "metadata": {},
   "outputs": [
    {
     "name": "stderr",
     "output_type": "stream",
     "text": [
      "/home/minoda/.pyenv/versions/anaconda3-5.2.0/lib/python3.6/site-packages/sklearn/model_selection/_split.py:2026: FutureWarning: From version 0.21, test_size will always complement train_size unless both are specified.\n",
      "  FutureWarning)\n"
     ]
    }
   ],
   "source": [
    "X = df.drop([\"is_arrested\"],axis=1)\n",
    "y = df[\"is_arrested\"]\n",
    "X_train, X_test, y_train, y_test = train_test_split(X, y, train_size=0.8)"
   ]
  },
  {
   "cell_type": "code",
   "execution_count": 38,
   "metadata": {},
   "outputs": [
    {
     "name": "stdout",
     "output_type": "stream",
     "text": [
      "train data score: 0.9305192812494529\n",
      "cross validation score: 0.8821732308886127\n",
      "CPU times: user 13.9 s, sys: 1.3 s, total: 15.2 s\n",
      "Wall time: 2.18 s\n"
     ]
    }
   ],
   "source": [
    "%%time\n",
    "lgbc = LGBMClassifier(class_weight=\"balanced\",n_estimators=30,learning_rate=0.3\n",
    "                      ,reg_lambda=40,num_leaves=45)\n",
    "lgbc.fit(X_train,y_train)\n",
    "y_predict_lgb = lgbc.predict_proba(X_test)[:,1]\n",
    "y_train_predict_lgb = lgbc.predict_proba(X_train)[:,1]\n",
    "print(\"train data score:\",roc_auc_score(y_train.values,y_train_predict_lgb))\n",
    "print(\"cross validation score:\",roc_auc_score(y_test.values,y_predict_lgb))"
   ]
  },
  {
   "cell_type": "code",
   "execution_count": 52,
   "metadata": {},
   "outputs": [
    {
     "data": {
      "text/plain": [
       "0.8663692679122309"
      ]
     },
     "execution_count": 52,
     "metadata": {},
     "output_type": "execute_result"
    }
   ],
   "source": [
    "forest = RandomForestClassifier(n_estimators=600,class_weight=\"balanced\")\n",
    "forest.fit(X_train,y_train)\n",
    "y_predict_forest = forest.predict_proba(X_test)[:,1]\n",
    "y_train_predict_forest = forest.predict_proba(X_train)[:,1]\n",
    "print(\"train data score:\",roc_auc_score(y_train.values,y_train_predict_forest))\n",
    "print(\"cross validation score:\",roc_auc_score(y_test.values,y_predict_forest))"
   ]
  },
  {
   "cell_type": "code",
   "execution_count": 13,
   "metadata": {},
   "outputs": [
    {
     "name": "stdout",
     "output_type": "stream",
     "text": [
      "train data score: 0.9211646354778193\n",
      "cross validation score: 0.8729738390793421\n",
      "CPU times: user 8min 7s, sys: 2min 10s, total: 10min 17s\n",
      "Wall time: 10min 16s\n"
     ]
    }
   ],
   "source": [
    "%%time\n",
    "xgbc = xgb.XGBClassifier(max_depth=4,n_estimators=500)\n",
    "xgbc.fit(X_train,y_train)\n",
    "y_predict_xgb = xgbc.predict_proba(X_test)[:,1]\n",
    "y_train_predict_xgb = xgbc.predict_proba(X_train)[:,1]\n",
    "print(\"train data score:\",roc_auc_score(y_train.values,y_train_predict_xgb))\n",
    "print(\"cross validation score:\",roc_auc_score(y_test.values,y_predict_xgb))"
   ]
  },
  {
   "cell_type": "code",
   "execution_count": 227,
   "metadata": {},
   "outputs": [
    {
     "name": "stdout",
     "output_type": "stream",
     "text": [
      "train data score: 0.9015736824353404\n",
      "cross validation score: 0.8830580869167379\n",
      "CPU times: user 3min 15s, sys: 53 s, total: 4min 8s\n",
      "Wall time: 4min 8s\n"
     ]
    }
   ],
   "source": [
    "%%time\n",
    "xgbc = xgb.XGBClassifier(max_depth=4,n_estimators=200)\n",
    "xgbc.fit(X_train,y_train)\n",
    "y_predict_xgb = xgbc.predict_proba(X_test)[:,1]\n",
    "y_train_predict_xgb = xgbc.predict_proba(X_train)[:,1]\n",
    "print(\"train data score:\",roc_auc_score(y_train.values,y_train_predict_xgb))\n",
    "print(\"cross validation score:\",roc_auc_score(y_test.values,y_predict_xgb))"
   ]
  },
  {
   "cell_type": "code",
   "execution_count": null,
   "metadata": {},
   "outputs": [],
   "source": [
    "%%time\n",
    "xgbc = xgb.XGBClassifier(max_depth=5,n_estimators=100)\n",
    "xgbc.fit(X_train,y_train)\n",
    "y_predict_xgb = xgbc.predict_proba(X_test)[:,1]\n",
    "y_train_predict_xgb = xgbc.predict_proba(X_train)[:,1]\n",
    "print(\"train data score:\",roc_auc_score(y_train.values,y_train_predict_xgb))\n",
    "print(\"cross validation score:\",roc_auc_score(y_test.values,y_predict_xgb))"
   ]
  },
  {
   "cell_type": "markdown",
   "metadata": {},
   "source": [
    "<table class=\"table2\">\n",
    "    <caption>06121820</caption>\n",
    "  <tr><th></th><th>3</th><th>4</th><th>5</th><th>6</th></tr>\n",
    "  <tr><td>100</td><td>???,???</td><td>??? / ???</td><td>0.8990 / 0.8768</td><td>???,???</td></tr>\n",
    "  <tr><td>200</td><td>???,???</td><td>??? / </td><td>???,???</td><td>???,???</td></tr>\n",
    "  <tr><td>300</td><td>???,???</td><td>??? / >???</td><td>???,???</td><td>???,???</td></tr>\n",
    "    <tr><td>500</td><td>???? / ????</td><td>0.9181 / 0.8734</td><td>?? / ???</td><td>???,???</td></tr>\n",
    "  <tr><td>700</td><td>0.9054 / 0.8726</td><td>???? / ????</td><td>??? / ???</td><td>???,???</td>\n",
    "</table>\n",
    "\n",
    "\n",
    "<table class=\"table2\">\n",
    "    <caption>06111230</caption>\n",
    "  <tr><th></th><th>3</th><th>4</th><th>5</th><th>6</th></tr>\n",
    "  <tr><td>100</td><td>???,???</td><td>0.8903 / 0.8768</td><td>??? / 0.8872?</td><td>???,???</td></tr>\n",
    "  <tr><td>200</td><td>???,???</td><td>??? / </td><td>???,???</td><td>???,???</td></tr>\n",
    "  <tr><td>300</td><td>???,???</td><td>0.9093 / 0.8793</td><td>???,???</td><td>???,???</td></tr>\n",
    "    <tr><td>500</td><td>0.9004,0.8791</td><td>0.9184 / 0.8811</td><td>0.9376 / 0.8699</td><td>???,???</td></tr>\n",
    "  <tr><td>700</td><td>???,???</td><td>0.9272 / 0.8809</td><td>??? / ???</td><td>???,???</td>\n",
    "</table>"
   ]
  },
  {
   "cell_type": "code",
   "execution_count": 39,
   "metadata": {},
   "outputs": [
    {
     "name": "stdout",
     "output_type": "stream",
     "text": [
      "train data score: 0.8823167460314494\n",
      "cross validation score: 0.8749300894535248\n",
      "CPU times: user 4.44 s, sys: 400 ms, total: 4.84 s\n",
      "Wall time: 2.87 s\n"
     ]
    }
   ],
   "source": [
    "%%time\n",
    "lr = LogisticRegression(class_weight=\"balanced\",C=0.1)\n",
    "lr.fit(X_train,y_train)\n",
    "y_predict_lr = lr.predict_proba(X_test)[:,1]\n",
    "y_train_predict_lr = lr.predict_proba(X_train)[:,1]\n",
    "print(\"train data score:\",roc_auc_score(y_train.values,y_train_predict_lr))\n",
    "print(\"cross validation score:\",roc_auc_score(y_test.values,y_predict_lr))"
   ]
  },
  {
   "cell_type": "code",
   "execution_count": 46,
   "metadata": {},
   "outputs": [
    {
     "name": "stdout",
     "output_type": "stream",
     "text": [
      "train data score: 0.8903967337372672\n",
      "cross validation score: 0.8827904010101835\n",
      "CPU times: user 2min 8s, sys: 5.14 s, total: 2min 13s\n",
      "Wall time: 17.4 s\n"
     ]
    }
   ],
   "source": [
    "%%time\n",
    "mlp = MLPClassifier(alpha=1e-2,hidden_layer_sizes=6, random_state=1)\n",
    "mlp.fit(X_train,y_train)\n",
    "y_predict_mlp = mlp.predict_proba(X_test)[:,1]\n",
    "y_train_predict_mlp = mlp.predict_proba(X_train)[:,1]\n",
    "print(\"train data score:\",roc_auc_score(y_train.values,y_train_predict_mlp))\n",
    "print(\"cross validation score:\",roc_auc_score(y_test.values,y_predict_mlp))"
   ]
  },
  {
   "cell_type": "code",
   "execution_count": 120,
   "metadata": {},
   "outputs": [
    {
     "name": "stdout",
     "output_type": "stream",
     "text": [
      "train data score: 0.87848785683378\n",
      "cross validation score: 0.8695935235015916\n",
      "CPU times: user 30.7 s, sys: 208 ms, total: 30.9 s\n",
      "Wall time: 30.9 s\n"
     ]
    }
   ],
   "source": [
    "%%time\n",
    "adbc = AdaBoostClassifier(n_estimators=100)\n",
    "adbc.fit(X_train,y_train)\n",
    "y_predict_adb = adbc.predict_proba(X_test)[:,1]\n",
    "y_train_predict_adb = adbc.predict_proba(X_train)[:,1]\n",
    "print(\"train data score:\",roc_auc_score(y_train.values,y_train_predict_adb))\n",
    "print(\"cross validation score:\",roc_auc_score(y_test.values,y_predict_adb))"
   ]
  },
  {
   "cell_type": "markdown",
   "metadata": {},
   "source": [
    "<table>\n",
    "  <caption>clean_06121840</caption>\n",
    "  <thead>\n",
    "  <tr>\n",
    "    <td>あるふぁ</td>\n",
    "    <td>隠れ層サイズ</td>\n",
    "    <td>train data score</td>  \n",
    "    <td>cross validation score</td>       \n",
    "  </tr>\n",
    "  </thead>\n",
    "  <tr>\n",
    "    <td>1e-2</td>\n",
    "    <td>10</td> \n",
    "    <td>0.8877</td>\n",
    "    <td>0.8893</td>\n",
    "  </tr>\n",
    "  <tr>\n",
    "    <td>1e-2</td>\n",
    "    <td>6</td> \n",
    "    <td>0.8887</td>\n",
    "    <td>0.8825</td>\n",
    "  </tr> \n",
    "</table>\n",
    "<table>\n",
    "  <caption>clean_06111230</caption>\n",
    "  <thead>\n",
    "  <tr>\n",
    "    <td>あるふぁ</td>\n",
    "    <td>隠れ層サイズ</td>\n",
    "    <td>train data score</td>  \n",
    "    <td>cross validation score</td>       \n",
    "  </tr>\n",
    "  </thead>\n",
    "  <tr>\n",
    "    <td>1e-5</td>\n",
    "    <td>50</td> \n",
    "    <td>0.96</td>\n",
    "    <td>0.82</td>\n",
    "  </tr> \n",
    "  <tr>\n",
    "    <td>1e-5</td>\n",
    "    <td>30</td> \n",
    "    <td>0.946</td>\n",
    "    <td>0.8284</td>\n",
    "  </tr>    \n",
    "  <tr>\n",
    "    <td>1e-5</td>\n",
    "    <td>20</td> \n",
    "    <td>0.9258</td>\n",
    "    <td>0.8543</td>\n",
    "  </tr>   \n",
    "  <tr>\n",
    "    <td>1e-5</td>\n",
    "    <td>10</td> \n",
    "    <td>0.9072</td>\n",
    "    <td>0.8718</td>\n",
    "  </tr> \n",
    "  <tr>\n",
    "    <td>1e-5</td>\n",
    "    <td>6</td> \n",
    "    <td>0.8934</td>\n",
    "    <td>0.8802</td>\n",
    "  </tr>   \n",
    "  <tr>\n",
    "    <td>1e-3</td>\n",
    "    <td>6</td> \n",
    "    <td>0.8923</td>\n",
    "    <td>0.8828</td>\n",
    "  </tr>\n",
    "  <tr>\n",
    "    <td>1e-2</td>\n",
    "    <td>6</td> \n",
    "    <td>0.8910</td>\n",
    "    <td>0.8834</td>\n",
    "  </tr>   \n",
    "  <tr>\n",
    "    <td>1e-5</td>\n",
    "    <td>3</td> \n",
    "    <td>0.8747</td>\n",
    "    <td>0.8612</td>\n",
    "  </tr>   \n",
    "</table>"
   ]
  },
  {
   "cell_type": "code",
   "execution_count": 232,
   "metadata": {},
   "outputs": [
    {
     "data": {
      "text/plain": [
       "0.886925058269447"
      ]
     },
     "execution_count": 232,
     "metadata": {},
     "output_type": "execute_result"
    }
   ],
   "source": [
    "#lr,xgb,mlp,lgbm\n",
    "rate = np.array([0.,80,70,3.0,0])\n",
    "roc_auc_score(y_test.values,np.dot(rate,np.array([y_predict_lr,y_predict_xgb\n",
    "                                                  ,y_predict_mlp,y_predict_lgb,y_predict_adb]))/np.sum(rate))"
   ]
  },
  {
   "cell_type": "code",
   "execution_count": 223,
   "metadata": {},
   "outputs": [],
   "source": [
    "X_final_test = df_test"
   ]
  },
  {
   "cell_type": "code",
   "execution_count": 224,
   "metadata": {},
   "outputs": [
    {
     "name": "stdout",
     "output_type": "stream",
     "text": [
      "CPU times: user 2.25 s, sys: 568 ms, total: 2.82 s\n",
      "Wall time: 2.82 s\n"
     ]
    }
   ],
   "source": [
    "%%time\n",
    "lgbc_final = LGBMClassifier(class_weight=\"balanced\",n_estimators=30,learning_rate=0.3\n",
    "                      ,reg_lambda=40,num_leaves=45)\n",
    "lgbc_final.fit(X,y)"
   ]
  },
  {
   "cell_type": "code",
   "execution_count": 233,
   "metadata": {},
   "outputs": [
    {
     "name": "stdout",
     "output_type": "stream",
     "text": [
      "CPU times: user 4min 12s, sys: 1min 6s, total: 5min 18s\n",
      "Wall time: 5min 21s\n"
     ]
    }
   ],
   "source": [
    "%%time\n",
    "xgb_final = xgb.XGBClassifier(max_depth=4,n_estimators=200)\n",
    "xgb_final.fit(X,y)"
   ]
  },
  {
   "cell_type": "code",
   "execution_count": 226,
   "metadata": {},
   "outputs": [
    {
     "name": "stdout",
     "output_type": "stream",
     "text": [
      "CPU times: user 11.9 s, sys: 1.88 s, total: 13.8 s\n",
      "Wall time: 13.8 s\n"
     ]
    }
   ],
   "source": [
    "%%time\n",
    "mlp_final = MLPClassifier(alpha=1e-2,hidden_layer_sizes=6, random_state=1)\n",
    "mlp_final.fit(X,y)"
   ]
  },
  {
   "cell_type": "code",
   "execution_count": 234,
   "metadata": {},
   "outputs": [],
   "source": [
    "y_final_predict_xgb = xgb_final.predict_proba(X_final_test)[:,1]\n",
    "y_final_predict_mlp = mlp_final.predict_proba(X_final_test)[:,1]\n",
    "y_final_predict_lgbc = lgbc_final.predict_proba(X_final_test)[:,1]\n",
    "rate = np.array([70,70,3])\n",
    "y_final_predict = np.dot(rate,np.array([y_final_predict_xgb,y_final_predict_mlp,y_final_predict_lgbc]))/np.sum(rate)"
   ]
  },
  {
   "cell_type": "code",
   "execution_count": 235,
   "metadata": {},
   "outputs": [],
   "source": [
    "y_final_predict = np.round(y_final_predict,6)"
   ]
  },
  {
   "cell_type": "code",
   "execution_count": 236,
   "metadata": {},
   "outputs": [
    {
     "data": {
      "text/plain": [
       "0.029069573430218952"
      ]
     },
     "execution_count": 236,
     "metadata": {},
     "output_type": "execute_result"
    }
   ],
   "source": [
    "np.average(y_final_predict)"
   ]
  },
  {
   "cell_type": "code",
   "execution_count": 237,
   "metadata": {},
   "outputs": [
    {
     "data": {
      "text/html": [
       "<div>\n",
       "<style scoped>\n",
       "    .dataframe tbody tr th:only-of-type {\n",
       "        vertical-align: middle;\n",
       "    }\n",
       "\n",
       "    .dataframe tbody tr th {\n",
       "        vertical-align: top;\n",
       "    }\n",
       "\n",
       "    .dataframe thead th {\n",
       "        text-align: right;\n",
       "    }\n",
       "</style>\n",
       "<table border=\"1\" class=\"dataframe\">\n",
       "  <thead>\n",
       "    <tr style=\"text-align: right;\">\n",
       "      <th></th>\n",
       "      <th>is_arrested</th>\n",
       "    </tr>\n",
       "  </thead>\n",
       "  <tbody>\n",
       "    <tr>\n",
       "      <th>0</th>\n",
       "      <td>0.012128</td>\n",
       "    </tr>\n",
       "    <tr>\n",
       "      <th>1</th>\n",
       "      <td>0.024653</td>\n",
       "    </tr>\n",
       "    <tr>\n",
       "      <th>2</th>\n",
       "      <td>0.437279</td>\n",
       "    </tr>\n",
       "  </tbody>\n",
       "</table>\n",
       "</div>"
      ],
      "text/plain": [
       "   is_arrested\n",
       "0     0.012128\n",
       "1     0.024653\n",
       "2     0.437279"
      ]
     },
     "execution_count": 237,
     "metadata": {},
     "output_type": "execute_result"
    }
   ],
   "source": [
    "submission = pd.DataFrame(data=y_final_predict, columns=['is_arrested'])\n",
    "submission.head(3)"
   ]
  },
  {
   "cell_type": "code",
   "execution_count": 238,
   "metadata": {},
   "outputs": [],
   "source": [
    "submission.to_csv(\"submission.csv\",index=False)"
   ]
  },
  {
   "cell_type": "code",
   "execution_count": null,
   "metadata": {},
   "outputs": [],
   "source": []
  }
 ],
 "metadata": {
  "kernelspec": {
   "display_name": "Python 3",
   "language": "python",
   "name": "python3"
  },
  "language_info": {
   "codemirror_mode": {
    "name": "ipython",
    "version": 3
   },
   "file_extension": ".py",
   "mimetype": "text/x-python",
   "name": "python",
   "nbconvert_exporter": "python",
   "pygments_lexer": "ipython3",
   "version": "3.6.5"
  }
 },
 "nbformat": 4,
 "nbformat_minor": 2
}
