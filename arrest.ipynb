{
 "cells": [
  {
   "cell_type": "markdown",
   "metadata": {},
   "source": [
    "## データについて\n",
    "各カラムの意味は以下の通りです.\n",
    "<table>\n",
    "  <thead>\n",
    "  <tr>\n",
    "    <td>.csvファイル</td>\n",
    "    <td>学習モデル</td>\n",
    "    <td>CVスコア</td>\n",
    "    <td>暫定スコア</td>\n",
    "    <td>備考</td>     \n",
    "  </tr>\n",
    "  </thead>\n",
    "  <tr>\n",
    "    <td>submission06102200.csv</td>\n",
    "    <td>LR only</td> \n",
    "    <td>0.87363</td>\n",
    "    <td>0.86669</td>\n",
    "    <td>officer_idは100000のみ</td>\n",
    "  </tr>\n",
    "  <tr>\n",
    "    <td>submission06111044.csv</td>\n",
    "    <td>{LR & RF(n=100)}/2</td> \n",
    "    <td>0.87809</td>\n",
    "    <td>0.?????</td>\n",
    "    <td>同上</td>\n",
    "  </tr>\n",
    "  <tr>\n",
    "    <td>submission06111100.csv</td>\n",
    "    <td>{LR & RF(n=100)}/2</td> \n",
    "    <td>0.88333</td>\n",
    "    <td>0.?????</td>\n",
    "    <td>stop_hourを修正</td>\n",
    "  </tr> \n",
    "  <tr>\n",
    "    <td>なし</td>\n",
    "    <td>XGB(深さ5)</td> \n",
    "    <td>0.88728</td>\n",
    "    <td>0.?????</td>\n",
    "    <td></td>\n",
    "  </tr>  \n",
    "  <tr>\n",
    "    <td>なし</td>\n",
    "    <td>XGB(深さ4,n_est=200)</td> \n",
    "    <td>0.88848</td>\n",
    "    <td>0.?????</td>\n",
    "    <td></td>\n",
    "  </tr>   \n",
    "  <tr>\n",
    "    <td>なし</td>\n",
    "    <td>XGB(深さ5)とLRを10:1</td> \n",
    "    <td>0.88766</td>\n",
    "    <td>0.?????</td>\n",
    "    <td></td>\n",
    "  </tr>  \n",
    "  <tr>\n",
    "    <td>なし</td>\n",
    "    <td>XGB(深さ4)</td> \n",
    "    <td>0.86897</td>\n",
    "    <td>0.?????</td>\n",
    "    <td>officer_idを追加した</td>\n",
    "  </tr>  \n",
    "  <tr>\n",
    "    <td>submission_06111430.csv</td>\n",
    "    <td>XGB(確か4と400)</td> \n",
    "    <td>0.?????</td>\n",
    "    <td>0.?????</td>\n",
    "    <td>nyx1で実行</td>\n",
    "  </tr>   \n",
    "  <tr>\n",
    "    <td>submission_06111430.csv</td>\n",
    "    <td>XGB&LR&RF</td> \n",
    "    <td>0.88907</td>\n",
    "    <td>0.?????</td>\n",
    "    <td>nyx1で実行</td>\n",
    "  </tr>  \n",
    "  <tr>\n",
    "    <td>submission_06131630.csv</td>\n",
    "    <td>xgb(4,200):mlp:lgb=70:70:3</td> \n",
    "    <td>0.8869</td>\n",
    "    <td>0.?????</td>\n",
    "    <td>nyx1で実行、_clean_06111230を使用</td>\n",
    "  </tr>   \n",
    "  <tr>\n",
    "    <td>submission_06131630.csv</td>\n",
    "    <td>xgb(4,200):mlp=1:1</td> \n",
    "    <td>0.8892</td>\n",
    "    <td>0.?????</td>\n",
    "    <td>nyx1で実行、_clean_06131800を使用。lgbmいらんかった...。</td>\n",
    "  </tr>     \n",
    "</table>\n"
   ]
  },
  {
   "cell_type": "code",
   "execution_count": 51,
   "metadata": {},
   "outputs": [],
   "source": [
    "import pandas as pd\n",
    "import numpy as np\n",
    "import matplotlib.pylab as plt\n",
    "from datetime import datetime\n",
    "\n",
    "import xgboost as xgb\n",
    "from sklearn.model_selection import train_test_split\n",
    "from sklearn.ensemble import RandomForestClassifier,AdaBoostClassifier\n",
    "#m = xgb.XGBRegressor()\n",
    "from sklearn.metrics import roc_auc_score\n",
    "from sklearn.linear_model import LogisticRegression\n",
    "from sklearn.neural_network import MLPClassifier\n",
    "from sklearn.preprocessing import PolynomialFeatures\n",
    "from sklearn.preprocessing import StandardScaler\n",
    "from lightgbm import LGBMClassifier\n",
    "from sklearn.grid_search import GridSearchCV"
   ]
  },
  {
   "cell_type": "code",
   "execution_count": 2,
   "metadata": {},
   "outputs": [],
   "source": [
    "df = pd.read_csv(\"train_clean_06141200.csv\")\n",
    "df_test = pd.read_csv(\"test_clean_06141200.csv\")"
   ]
  },
  {
   "cell_type": "code",
   "execution_count": 52,
   "metadata": {},
   "outputs": [],
   "source": [
    "df = pd.read_csv(\"train_clean_06142000.csv\")\n",
    "df_test = pd.read_csv(\"test_clean_06142000.csv\")"
   ]
  },
  {
   "cell_type": "code",
   "execution_count": 53,
   "metadata": {},
   "outputs": [
    {
     "name": "stdout",
     "output_type": "stream",
     "text": [
      "<class 'pandas.core.frame.DataFrame'>\n",
      "RangeIndex: 219319 entries, 0 to 219318\n",
      "Columns: 267 entries, driver_gender to location_I395\n",
      "dtypes: float64(192), int64(75)\n",
      "memory usage: 446.8 MB\n"
     ]
    }
   ],
   "source": [
    "df.info()"
   ]
  },
  {
   "cell_type": "code",
   "execution_count": 68,
   "metadata": {},
   "outputs": [],
   "source": [
    "sc = StandardScaler()\n",
    "df[[\"driver_age_raw\",\"population\",\"area\",\"stop_day\",\"X\",\"Y\"]]= sc.fit_transform(df[[\"driver_age_raw\",\"population\",\"area\",\"stop_day\",\"X\",\"Y\"]])\n",
    "df_test[[\"driver_age_raw\",\"population\",\"area\",\"stop_day\",\"X\",\"Y\"]] = sc.fit_transform(df_test[[\"driver_age_raw\",\"population\",\"area\",\"stop_day\",\"X\",\"Y\"]])"
   ]
  },
  {
   "cell_type": "code",
   "execution_count": 55,
   "metadata": {},
   "outputs": [],
   "source": [
    "X = df.drop([\"is_arrested\"],axis=1)\n",
    "y = df[\"is_arrested\"]"
   ]
  },
  {
   "cell_type": "code",
   "execution_count": 75,
   "metadata": {},
   "outputs": [],
   "source": [
    "X = df.drop([\"is_arrested\",'location_monroe', 'location_north branford', 'location_avon',\n",
    "       'location_portland', 'location_easton', 'location_bloomfield',\n",
    "       'location_ridgefield', 'location_wolcott', 'location_simsbury',\n",
    "       'location_granby', 'location_wilton', 'officer_55887736',\n",
    "       'officer_770626977', 'officer_1000002961', 'officer_1000002376',\n",
    "       'officer_70583331', 'officer_1000002714', 'officer_1000003026',\n",
    "       'officer_1000002219', 'officer_298463910', 'officer_1000002220',\n",
    "       'officer_1000003191'],axis=1)\n",
    "y = df[\"is_arrested\"]"
   ]
  },
  {
   "cell_type": "code",
   "execution_count": 76,
   "metadata": {},
   "outputs": [
    {
     "name": "stderr",
     "output_type": "stream",
     "text": [
      "/home/minoda/.pyenv/versions/anaconda3-5.2.0/lib/python3.6/site-packages/sklearn/model_selection/_split.py:2026: FutureWarning: From version 0.21, test_size will always complement train_size unless both are specified.\n",
      "  FutureWarning)\n"
     ]
    }
   ],
   "source": [
    "X_train, X_test, y_train, y_test = train_test_split(X, y, train_size=0.8)"
   ]
  },
  {
   "cell_type": "code",
   "execution_count": null,
   "metadata": {},
   "outputs": [],
   "source": [
    "param_grid = {\"max_depth\": [3,4],\n",
    "              \"n_estimators\":[50,100,300,500],\n",
    "              #\"reg_lambda\": [1, 100, 500],\n",
    "              #\"num_leaves\": [20, 30, 40],\n",
    "              \"learning_rate\": [0.01, 0.1, 1]\n",
    "             }\n",
    "lgbm_grid = GridSearchCV(estimator=LGBMClassifier(random_state=0),\n",
    "                 param_grid = param_grid,   \n",
    "                 scoring=\"roc_auc\", \n",
    "                 cv = 10,\n",
    "                 n_jobs = 8)   \n",
    "lgbm_grid.fit(X,y) \n",
    "lgbm_grid_best = lgbm_grid.best_estimator_\n",
    "print(\"Best Model Parameter: \",lgbm_grid.best_params_)"
   ]
  },
  {
   "cell_type": "code",
   "execution_count": 82,
   "metadata": {},
   "outputs": [
    {
     "name": "stdout",
     "output_type": "stream",
     "text": [
      "train data score: 0.8964912953361709\n",
      "cross validation score: 0.8741031798441689\n",
      "CPU times: user 3.16 s, sys: 728 ms, total: 3.89 s\n",
      "Wall time: 3.89 s\n"
     ]
    }
   ],
   "source": [
    "%%time\n",
    "lgbc = LGBMClassifier(class_weight=\"balanced\",n_estimators=30,learning_rate=0.1\n",
    "                      ,reg_lambda=4,num_leaves=25)\n",
    "lgbc.fit(X_train,y_train)\n",
    "y_predict_lgb = lgbc.predict_proba(X_test)[:,1]\n",
    "y_train_predict_lgb = lgbc.predict_proba(X_train)[:,1]\n",
    "print(\"train data score:\",roc_auc_score(y_train.values,y_train_predict_lgb))\n",
    "print(\"cross validation score:\",roc_auc_score(y_test.values,y_predict_lgb))"
   ]
  },
  {
   "cell_type": "code",
   "execution_count": 59,
   "metadata": {},
   "outputs": [
    {
     "name": "stdout",
     "output_type": "stream",
     "text": [
      "train data score: 0.905948340656719\n",
      "cross validation score: 0.8691488779725417\n",
      "CPU times: user 6min 24s, sys: 1min 39s, total: 8min 4s\n",
      "Wall time: 8min 2s\n"
     ]
    }
   ],
   "source": [
    "%%time\n",
    "xgbc = xgb.XGBClassifier(max_depth=3,n_estimators=500)\n",
    "xgbc.fit(X_train,y_train)\n",
    "y_predict_xgb = xgbc.predict_proba(X_test)[:,1]\n",
    "y_train_predict_xgb = xgbc.predict_proba(X_train)[:,1]\n",
    "print(\"train data score:\",roc_auc_score(y_train.values,y_train_predict_xgb))\n",
    "print(\"cross validation score:\",roc_auc_score(y_test.values,y_predict_xgb))"
   ]
  },
  {
   "cell_type": "markdown",
   "metadata": {},
   "source": [
    "<table class=\"table2\">\n",
    "    <caption>06121820</caption>\n",
    "  <tr><th></th><th>3</th><th>4</th><th>5</th><th>6</th></tr>\n",
    "  <tr><td>100</td><td>???,???</td><td>??? / ???</td><td>0.8990 / 0.8768</td><td>???,???</td></tr>\n",
    "  <tr><td>200</td><td>???,???</td><td>??? / </td><td>???,???</td><td>???,???</td></tr>\n",
    "  <tr><td>300</td><td>???,???</td><td>??? / >???</td><td>???,???</td><td>???,???</td></tr>\n",
    "    <tr><td>500</td><td>???? / ????</td><td>0.9181 / 0.8734</td><td>?? / ???</td><td>???,???</td></tr>\n",
    "  <tr><td>700</td><td>0.9054 / 0.8726</td><td>???? / ????</td><td>??? / ???</td><td>???,???</td>\n",
    "</table>\n",
    "\n",
    "\n",
    "<table class=\"table2\">\n",
    "    <caption>06111230</caption>\n",
    "  <tr><th></th><th>3</th><th>4</th><th>5</th><th>6</th></tr>\n",
    "  <tr><td>100</td><td>???,???</td><td>0.8903 / 0.8768</td><td>??? / 0.8872?</td><td>???,???</td></tr>\n",
    "  <tr><td>200</td><td>???,???</td><td>??? / </td><td>???,???</td><td>???,???</td></tr>\n",
    "  <tr><td>300</td><td>???,???</td><td>0.9093 / 0.8793</td><td>???,???</td><td>???,???</td></tr>\n",
    "    <tr><td>500</td><td>0.9004,0.8791</td><td>0.9184 / 0.8811</td><td>0.9376 / 0.8699</td><td>???,???</td></tr>\n",
    "  <tr><td>700</td><td>???,???</td><td>0.9272 / 0.8809</td><td>??? / ???</td><td>???,???</td>\n",
    "</table>"
   ]
  },
  {
   "cell_type": "code",
   "execution_count": 83,
   "metadata": {},
   "outputs": [
    {
     "name": "stdout",
     "output_type": "stream",
     "text": [
      "train data score: 0.8916114162510637\n",
      "cross validation score: 0.8734176930019586\n",
      "CPU times: user 6.78 s, sys: 1.31 s, total: 8.09 s\n",
      "Wall time: 8.08 s\n"
     ]
    }
   ],
   "source": [
    "%%time\n",
    "mlp = MLPClassifier(alpha=1e-2,hidden_layer_sizes=6, random_state=1)\n",
    "mlp.fit(X_train,y_train)\n",
    "y_predict_mlp = mlp.predict_proba(X_test)[:,1]\n",
    "y_train_predict_mlp = mlp.predict_proba(X_train)[:,1]\n",
    "print(\"train data score:\",roc_auc_score(y_train.values,y_train_predict_mlp))\n",
    "print(\"cross validation score:\",roc_auc_score(y_test.values,y_predict_mlp))"
   ]
  },
  {
   "cell_type": "code",
   "execution_count": 72,
   "metadata": {},
   "outputs": [
    {
     "name": "stdout",
     "output_type": "stream",
     "text": [
      "train data score: 0.8808309376907693\n",
      "cross validation score: 0.8696708108494071\n",
      "CPU times: user 3.04 s, sys: 228 ms, total: 3.27 s\n",
      "Wall time: 3.27 s\n"
     ]
    }
   ],
   "source": [
    "%%time\n",
    "lr = LogisticRegression(class_weight=\"balanced\",C=0.1)\n",
    "lr.fit(X_train,y_train)\n",
    "y_predict_lr = lr.predict_proba(X_test)[:,1]\n",
    "y_train_predict_lr = lr.predict_proba(X_train)[:,1]\n",
    "print(\"train data score:\",roc_auc_score(y_train.values,y_train_predict_lr))\n",
    "print(\"cross validation score:\",roc_auc_score(y_test.values,y_predict_lr))"
   ]
  },
  {
   "cell_type": "code",
   "execution_count": 33,
   "metadata": {},
   "outputs": [
    {
     "name": "stdout",
     "output_type": "stream",
     "text": [
      "train data score: 0.8619618898679375\n",
      "cross validation score: 0.8436802550260822\n",
      "CPU times: user 26.7 s, sys: 660 ms, total: 27.4 s\n",
      "Wall time: 12.2 s\n"
     ]
    }
   ],
   "source": [
    "%%time\n",
    "forest = RandomForestClassifier(max_depth=3,n_estimators=200,class_weight=\"balanced\")\n",
    "forest.fit(X_train,y_train)\n",
    "y_predict_forest = forest.predict_proba(X_test)[:,1]\n",
    "y_train_predict_forest = forest.predict_proba(X_train)[:,1]\n",
    "print(\"train data score:\",roc_auc_score(y_train.values,y_train_predict_forest))\n",
    "print(\"cross validation score:\",roc_auc_score(y_test.values,y_predict_forest))"
   ]
  },
  {
   "cell_type": "code",
   "execution_count": 44,
   "metadata": {},
   "outputs": [],
   "source": [
    "vec = forest.feature_importances_\n",
    "index=np.where(vec>0.001)"
   ]
  },
  {
   "cell_type": "code",
   "execution_count": 45,
   "metadata": {},
   "outputs": [
    {
     "data": {
      "text/plain": [
       "array(['driver_gender', 'driver_age_raw', 'contraband_found',\n",
       "       'stop_duration', 'is_arrested', 'violation_Equipment',\n",
       "       'violation_License', 'violation_Lights',\n",
       "       'violation_Moving violation', 'violation_Other',\n",
       "       'violation_Safe movement', 'violation_Seat belt',\n",
       "       'stop_day_Monday', 'stop_day_Saturday', 'stop_day_Wednesday',\n",
       "       'stop_hour_0.0', 'stop_hour_1.0', 'stop_hour_2.0', 'stop_hour_5.0',\n",
       "       'stop_hour_8.0', 'stop_hour_22.0', 'race_Black', 'race_Other',\n",
       "       'race_White', 'search_Consent', 'search_Inventory',\n",
       "       'county_Litchfield County', 'county_New London County',\n",
       "       'county_Windham County', 'location_route', 'location_00000',\n",
       "       'population', 'area', 'X', 'location_deep river',\n",
       "       'location_wallingford', 'location_chester', 'location_ansonia',\n",
       "       'location_branford', 'location_coventry', 'officer_1000003191'],\n",
       "      dtype=object)"
      ]
     },
     "execution_count": 45,
     "metadata": {},
     "output_type": "execute_result"
    }
   ],
   "source": [
    "df.columns.values[index]"
   ]
  },
  {
   "cell_type": "code",
   "execution_count": 120,
   "metadata": {},
   "outputs": [
    {
     "name": "stdout",
     "output_type": "stream",
     "text": [
      "train data score: 0.87848785683378\n",
      "cross validation score: 0.8695935235015916\n",
      "CPU times: user 30.7 s, sys: 208 ms, total: 30.9 s\n",
      "Wall time: 30.9 s\n"
     ]
    }
   ],
   "source": [
    "%%time\n",
    "adbc = AdaBoostClassifier(n_estimators=100)\n",
    "adbc.fit(X_train,y_train)\n",
    "y_predict_adb = adbc.predict_proba(X_test)[:,1]\n",
    "y_train_predict_adb = adbc.predict_proba(X_train)[:,1]\n",
    "print(\"train data score:\",roc_auc_score(y_train.values,y_train_predict_adb))\n",
    "print(\"cross validation score:\",roc_auc_score(y_test.values,y_predict_adb))"
   ]
  },
  {
   "cell_type": "markdown",
   "metadata": {},
   "source": [
    "<table>\n",
    "  <caption>clean_06121840</caption>\n",
    "  <thead>\n",
    "  <tr>\n",
    "    <td>あるふぁ</td>\n",
    "    <td>隠れ層サイズ</td>\n",
    "    <td>train data score</td>  \n",
    "    <td>cross validation score</td>       \n",
    "  </tr>\n",
    "  </thead>\n",
    "  <tr>\n",
    "    <td>1e-2</td>\n",
    "    <td>10</td> \n",
    "    <td>0.8877</td>\n",
    "    <td>0.8893</td>\n",
    "  </tr>\n",
    "  <tr>\n",
    "    <td>1e-2</td>\n",
    "    <td>6</td> \n",
    "    <td>0.8887</td>\n",
    "    <td>0.8825</td>\n",
    "  </tr> \n",
    "</table>\n",
    "<table>\n",
    "  <caption>clean_06111230</caption>\n",
    "  <thead>\n",
    "  <tr>\n",
    "    <td>あるふぁ</td>\n",
    "    <td>隠れ層サイズ</td>\n",
    "    <td>train data score</td>  \n",
    "    <td>cross validation score</td>       \n",
    "  </tr>\n",
    "  </thead>\n",
    "  <tr>\n",
    "    <td>1e-5</td>\n",
    "    <td>50</td> \n",
    "    <td>0.96</td>\n",
    "    <td>0.82</td>\n",
    "  </tr> \n",
    "  <tr>\n",
    "    <td>1e-5</td>\n",
    "    <td>30</td> \n",
    "    <td>0.946</td>\n",
    "    <td>0.8284</td>\n",
    "  </tr>    \n",
    "  <tr>\n",
    "    <td>1e-5</td>\n",
    "    <td>20</td> \n",
    "    <td>0.9258</td>\n",
    "    <td>0.8543</td>\n",
    "  </tr>   \n",
    "  <tr>\n",
    "    <td>1e-5</td>\n",
    "    <td>10</td> \n",
    "    <td>0.9072</td>\n",
    "    <td>0.8718</td>\n",
    "  </tr> \n",
    "  <tr>\n",
    "    <td>1e-5</td>\n",
    "    <td>6</td> \n",
    "    <td>0.8934</td>\n",
    "    <td>0.8802</td>\n",
    "  </tr>   \n",
    "  <tr>\n",
    "    <td>1e-3</td>\n",
    "    <td>6</td> \n",
    "    <td>0.8923</td>\n",
    "    <td>0.8828</td>\n",
    "  </tr>\n",
    "  <tr>\n",
    "    <td>1e-2</td>\n",
    "    <td>6</td> \n",
    "    <td>0.8910</td>\n",
    "    <td>0.8834</td>\n",
    "  </tr>   \n",
    "  <tr>\n",
    "    <td>1e-5</td>\n",
    "    <td>3</td> \n",
    "    <td>0.8747</td>\n",
    "    <td>0.8612</td>\n",
    "  </tr>   \n",
    "</table>"
   ]
  },
  {
   "cell_type": "code",
   "execution_count": 455,
   "metadata": {},
   "outputs": [
    {
     "data": {
      "text/plain": [
       "0.8892448665994271"
      ]
     },
     "execution_count": 455,
     "metadata": {},
     "output_type": "execute_result"
    }
   ],
   "source": [
    "#lr,xgb,mlp,lgbm\n",
    "rate = np.array([1,1,0])\n",
    "roc_auc_score(y_test.values,np.dot(rate,np.array([y_predict_xgb\n",
    "                                                  ,y_predict_mlp,y_predict_lgb]))/np.sum(rate))"
   ]
  },
  {
   "cell_type": "code",
   "execution_count": 467,
   "metadata": {},
   "outputs": [
    {
     "name": "stdout",
     "output_type": "stream",
     "text": [
      "<class 'pandas.core.frame.DataFrame'>\n",
      "RangeIndex: 93994 entries, 0 to 93993\n",
      "Columns: 252 entries, driver_gender to location_I395\n",
      "dtypes: float64(179), int64(73)\n",
      "memory usage: 180.7 MB\n"
     ]
    }
   ],
   "source": [
    "X_final_test = df_test\n",
    "X_final_test.info()"
   ]
  },
  {
   "cell_type": "code",
   "execution_count": 224,
   "metadata": {},
   "outputs": [
    {
     "name": "stdout",
     "output_type": "stream",
     "text": [
      "CPU times: user 2.25 s, sys: 568 ms, total: 2.82 s\n",
      "Wall time: 2.82 s\n"
     ]
    }
   ],
   "source": [
    "%%time\n",
    "lgbc_final = LGBMClassifier(class_weight=\"balanced\",n_estimators=30,learning_rate=0.3\n",
    "                      ,reg_lambda=40,num_leaves=45)\n",
    "lgbc_final.fit(X,y)"
   ]
  },
  {
   "cell_type": "code",
   "execution_count": 456,
   "metadata": {},
   "outputs": [
    {
     "name": "stdout",
     "output_type": "stream",
     "text": [
      "CPU times: user 4min 4s, sys: 1min 1s, total: 5min 6s\n",
      "Wall time: 5min 8s\n"
     ]
    }
   ],
   "source": [
    "%%time\n",
    "xgb_final = xgb.XGBClassifier(max_depth=4,n_estimators=200)\n",
    "xgb_final.fit(X,y)"
   ]
  },
  {
   "cell_type": "code",
   "execution_count": 457,
   "metadata": {},
   "outputs": [
    {
     "name": "stdout",
     "output_type": "stream",
     "text": [
      "CPU times: user 11.2 s, sys: 1.78 s, total: 13 s\n",
      "Wall time: 13.1 s\n"
     ]
    }
   ],
   "source": [
    "%%time\n",
    "mlp_final = MLPClassifier(alpha=1e-2,hidden_layer_sizes=6, random_state=1)\n",
    "mlp_final.fit(X,y)"
   ]
  },
  {
   "cell_type": "code",
   "execution_count": null,
   "metadata": {},
   "outputs": [],
   "source": [
    "y_final_predict_xgb = xgb_final.predict_proba(X_final_test)[:,1]\n",
    "y_final_predict_mlp = mlp_final.predict_proba(X_final_test)[:,1]\n",
    "rate = np.array([1,1])\n",
    "y_final_predict = np.dot(rate,np.array([y_final_predict_xgb,y_final_predict_mlp]))/np.sum(rate)"
   ]
  },
  {
   "cell_type": "code",
   "execution_count": 235,
   "metadata": {},
   "outputs": [],
   "source": [
    "y_final_predict = np.round(y_final_predict,6)"
   ]
  },
  {
   "cell_type": "code",
   "execution_count": 236,
   "metadata": {},
   "outputs": [
    {
     "data": {
      "text/plain": [
       "0.029069573430218952"
      ]
     },
     "execution_count": 236,
     "metadata": {},
     "output_type": "execute_result"
    }
   ],
   "source": [
    "np.average(y_final_predict)"
   ]
  },
  {
   "cell_type": "code",
   "execution_count": 237,
   "metadata": {},
   "outputs": [
    {
     "data": {
      "text/html": [
       "<div>\n",
       "<style scoped>\n",
       "    .dataframe tbody tr th:only-of-type {\n",
       "        vertical-align: middle;\n",
       "    }\n",
       "\n",
       "    .dataframe tbody tr th {\n",
       "        vertical-align: top;\n",
       "    }\n",
       "\n",
       "    .dataframe thead th {\n",
       "        text-align: right;\n",
       "    }\n",
       "</style>\n",
       "<table border=\"1\" class=\"dataframe\">\n",
       "  <thead>\n",
       "    <tr style=\"text-align: right;\">\n",
       "      <th></th>\n",
       "      <th>is_arrested</th>\n",
       "    </tr>\n",
       "  </thead>\n",
       "  <tbody>\n",
       "    <tr>\n",
       "      <th>0</th>\n",
       "      <td>0.012128</td>\n",
       "    </tr>\n",
       "    <tr>\n",
       "      <th>1</th>\n",
       "      <td>0.024653</td>\n",
       "    </tr>\n",
       "    <tr>\n",
       "      <th>2</th>\n",
       "      <td>0.437279</td>\n",
       "    </tr>\n",
       "  </tbody>\n",
       "</table>\n",
       "</div>"
      ],
      "text/plain": [
       "   is_arrested\n",
       "0     0.012128\n",
       "1     0.024653\n",
       "2     0.437279"
      ]
     },
     "execution_count": 237,
     "metadata": {},
     "output_type": "execute_result"
    }
   ],
   "source": [
    "submission = pd.DataFrame(data=y_final_predict, columns=['is_arrested'])\n",
    "submission.head(3)"
   ]
  },
  {
   "cell_type": "code",
   "execution_count": 238,
   "metadata": {},
   "outputs": [],
   "source": [
    "submission.to_csv(\"submission.csv\",index=False)"
   ]
  },
  {
   "cell_type": "code",
   "execution_count": null,
   "metadata": {},
   "outputs": [],
   "source": []
  }
 ],
 "metadata": {
  "kernelspec": {
   "display_name": "Python 3",
   "language": "python",
   "name": "python3"
  },
  "language_info": {
   "codemirror_mode": {
    "name": "ipython",
    "version": 3
   },
   "file_extension": ".py",
   "mimetype": "text/x-python",
   "name": "python",
   "nbconvert_exporter": "python",
   "pygments_lexer": "ipython3",
   "version": "3.6.5"
  }
 },
 "nbformat": 4,
 "nbformat_minor": 2
}
